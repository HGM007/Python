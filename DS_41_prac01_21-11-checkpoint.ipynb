{
 "cells": [
  {
   "cell_type": "code",
   "execution_count": 2,
   "id": "03fe07a5",
   "metadata": {},
   "outputs": [
    {
     "name": "stdout",
     "output_type": "stream",
     "text": [
      "Himanshu G Marekar\n"
     ]
    }
   ],
   "source": [
    "print(\"Himanshu G Marekar\")"
   ]
  },
  {
   "cell_type": "code",
   "execution_count": 1,
   "id": "be8063da",
   "metadata": {},
   "outputs": [
    {
     "name": "stdout",
     "output_type": "stream",
     "text": [
      "DS_41\n"
     ]
    }
   ],
   "source": [
    "print(\"DS_41\")"
   ]
  },
  {
   "cell_type": "code",
   "execution_count": 2,
   "id": "f4ad2fa2",
   "metadata": {},
   "outputs": [
    {
     "data": {
      "text/plain": [
       "(['ïnd', 1, 2, 'mumbai'], list)"
      ]
     },
     "execution_count": 2,
     "metadata": {},
     "output_type": "execute_result"
    }
   ],
   "source": [
    "l=[\"ïnd\",1,2,\"mumbai\"]\n",
    "l,type(l)"
   ]
  },
  {
   "cell_type": "code",
   "execution_count": 3,
   "id": "ea028d6f",
   "metadata": {},
   "outputs": [
    {
     "data": {
      "text/plain": [
       "4"
      ]
     },
     "execution_count": 3,
     "metadata": {},
     "output_type": "execute_result"
    }
   ],
   "source": [
    "len(l)"
   ]
  },
  {
   "cell_type": "code",
   "execution_count": 4,
   "id": "87fe99ed",
   "metadata": {},
   "outputs": [
    {
     "data": {
      "text/plain": [
       "'ïnd'"
      ]
     },
     "execution_count": 4,
     "metadata": {},
     "output_type": "execute_result"
    }
   ],
   "source": [
    "l[0]"
   ]
  },
  {
   "cell_type": "code",
   "execution_count": 5,
   "id": "3a1ea1e1",
   "metadata": {},
   "outputs": [
    {
     "data": {
      "text/plain": [
       "'mumbai'"
      ]
     },
     "execution_count": 5,
     "metadata": {},
     "output_type": "execute_result"
    }
   ],
   "source": [
    "l[-1]"
   ]
  },
  {
   "cell_type": "code",
   "execution_count": 6,
   "id": "9cb56d7b",
   "metadata": {},
   "outputs": [
    {
     "data": {
      "text/plain": [
       "['ïnd', 1, 2]"
      ]
     },
     "execution_count": 6,
     "metadata": {},
     "output_type": "execute_result"
    }
   ],
   "source": [
    "l[0:3]"
   ]
  },
  {
   "cell_type": "code",
   "execution_count": 7,
   "id": "989cb0d5",
   "metadata": {},
   "outputs": [
    {
     "data": {
      "text/plain": [
       "str"
      ]
     },
     "execution_count": 7,
     "metadata": {},
     "output_type": "execute_result"
    }
   ],
   "source": [
    "type(l[0])"
   ]
  },
  {
   "cell_type": "code",
   "execution_count": 8,
   "id": "27b97524",
   "metadata": {},
   "outputs": [
    {
     "data": {
      "text/plain": [
       "['ïnd', 1, 2]"
      ]
     },
     "execution_count": 8,
     "metadata": {},
     "output_type": "execute_result"
    }
   ],
   "source": [
    "l[:-1]"
   ]
  },
  {
   "cell_type": "code",
   "execution_count": 9,
   "id": "5f5cb733",
   "metadata": {},
   "outputs": [
    {
     "data": {
      "text/plain": [
       "['ïnd', 1, 2, 'mumbai']"
      ]
     },
     "execution_count": 9,
     "metadata": {},
     "output_type": "execute_result"
    }
   ],
   "source": [
    "l[:]"
   ]
  },
  {
   "cell_type": "code",
   "execution_count": 13,
   "id": "cce24741",
   "metadata": {},
   "outputs": [],
   "source": [
    "l[1]='7'"
   ]
  },
  {
   "cell_type": "code",
   "execution_count": 14,
   "id": "6aab3d75",
   "metadata": {},
   "outputs": [
    {
     "data": {
      "text/plain": [
       "['ïnd', '7', 2, 'mumbai']"
      ]
     },
     "execution_count": 14,
     "metadata": {},
     "output_type": "execute_result"
    }
   ],
   "source": [
    "l"
   ]
  },
  {
   "cell_type": "code",
   "execution_count": 16,
   "id": "6e7f12af",
   "metadata": {},
   "outputs": [
    {
     "name": "stdout",
     "output_type": "stream",
     "text": [
      "[1, 4, 6, 8]\n"
     ]
    }
   ],
   "source": [
    "odd = [2,4,6,8]\n",
    "\n",
    "odd[0]=1\n",
    "\n",
    "print(odd)"
   ]
  },
  {
   "cell_type": "code",
   "execution_count": 17,
   "id": "a0f43eb0",
   "metadata": {},
   "outputs": [
    {
     "name": "stdout",
     "output_type": "stream",
     "text": [
      "[1, 3, 5, 7]\n"
     ]
    }
   ],
   "source": [
    "odd[1:4]=[3,5,7]\n",
    "print(odd)"
   ]
  },
  {
   "cell_type": "code",
   "execution_count": 19,
   "id": "21acdf16",
   "metadata": {},
   "outputs": [
    {
     "data": {
      "text/plain": [
       "[2, 4, 6, 8]"
      ]
     },
     "execution_count": 19,
     "metadata": {},
     "output_type": "execute_result"
    }
   ],
   "source": [
    "e=[1,3,5,7,9]\n",
    "e[:]=[2,4,6,8]\n",
    "\n",
    "e"
   ]
  },
  {
   "cell_type": "code",
   "execution_count": 22,
   "id": "e4370829",
   "metadata": {},
   "outputs": [
    {
     "name": "stdout",
     "output_type": "stream",
     "text": [
      "['apple', 1, 'banana', 2, 'mango']\n"
     ]
    },
    {
     "data": {
      "text/plain": [
       "5"
      ]
     },
     "execution_count": 22,
     "metadata": {},
     "output_type": "execute_result"
    }
   ],
   "source": [
    "fruits=['apple',1,'banana',2,'mango']\n",
    "print(fruits)\n",
    "type(fruits)\n",
    "fruits[:-1:2]\n",
    "len(fruits)"
   ]
  },
  {
   "cell_type": "code",
   "execution_count": 26,
   "id": "681cf167",
   "metadata": {},
   "outputs": [
    {
     "name": "stdout",
     "output_type": "stream",
     "text": [
      "['fifa', 'one']\n"
     ]
    },
    {
     "data": {
      "text/plain": [
       "['ïnd', '7', 2, 'mumbai', 5, ['fifa', 'one']]"
      ]
     },
     "execution_count": 26,
     "metadata": {},
     "output_type": "execute_result"
    }
   ],
   "source": [
    "nl=[[1,2],['hello','world'],[134,'apple']]\n",
    "\n",
    "nl[-1][0]\n",
    "\n",
    "n_nl=l + [5,['fifa','one']]\n",
    "\n",
    "print(n_nl[-1])\n",
    "\n",
    "n_nl"
   ]
  },
  {
   "cell_type": "code",
   "execution_count": 29,
   "id": "46d54536",
   "metadata": {},
   "outputs": [
    {
     "name": "stdout",
     "output_type": "stream",
     "text": [
      "[566, 78, 59, 32, 1]\n"
     ]
    }
   ],
   "source": [
    "h=[32,566,59,78,1]\n",
    "h.sort()\n",
    "#bool+func\n",
    "h.sort(reverse=True)\n",
    "print(h)"
   ]
  },
  {
   "cell_type": "code",
   "execution_count": 34,
   "id": "09df9c9d",
   "metadata": {},
   "outputs": [
    {
     "name": "stdout",
     "output_type": "stream",
     "text": [
      "[1, 2, 3, 4]\n",
      "[1, 2, 3, 4]\n",
      "[1, 2]\n",
      "['apple', 2, 3, 4]\n"
     ]
    }
   ],
   "source": [
    "#shadow copying\n",
    "q=[1,2,3,4]\n",
    "r=q\n",
    "print(r)\n",
    "r=q[:2]\n",
    "print(q)\n",
    "print(r)\n",
    "q[0]=\"apple\"\n",
    "print(q)"
   ]
  },
  {
   "cell_type": "markdown",
   "id": "0621640e",
   "metadata": {},
   "source": [
    "### python list method\n",
    "\n",
    "####Method\tDescription\n",
    "####append()\tAdds an element at the end of the list\n",
    "####clear()\tRemoves all the elements from the list\n",
    "####copy()\tReturns a copy of the list\n",
    "####count()\tReturns the number of elements with the specified value\n",
    "####extend()\tAdd the elements of a list (or any iterable), to the end of the current list\n",
    "####index()\tReturns the index of the first element with the specified value\n",
    "####insert()\tAdds an element at the specified position\n",
    "####pop()\tRemoves the element at the specified position\n",
    "####remove()\tRemoves the item with the specified value\n",
    "####reverse()\tReverses the order of the list\n",
    "####sort()\tSorts the list\n"
   ]
  },
  {
   "cell_type": "markdown",
   "id": "c988127e",
   "metadata": {},
   "source": []
  },
  {
   "cell_type": "code",
   "execution_count": null,
   "id": "0705fba1",
   "metadata": {},
   "outputs": [],
   "source": [
    "# 28-11-22"
   ]
  },
  {
   "cell_type": "markdown",
   "id": "f15b4077",
   "metadata": {},
   "source": [
    "## tuple\n"
   ]
  },
  {
   "cell_type": "code",
   "execution_count": 1,
   "id": "de128690",
   "metadata": {},
   "outputs": [
    {
     "data": {
      "text/plain": [
       "tuple"
      ]
     },
     "execution_count": 1,
     "metadata": {},
     "output_type": "execute_result"
    }
   ],
   "source": [
    "t=(1,2,3,4)\n",
    "type(t)"
   ]
  },
  {
   "cell_type": "code",
   "execution_count": 4,
   "id": "cbdf0444",
   "metadata": {},
   "outputs": [
    {
     "name": "stdout",
     "output_type": "stream",
     "text": [
      "(1, 2, 'hgm', (1, 2, 3), [1, 2, 3])\n",
      "5\n"
     ]
    },
    {
     "data": {
      "text/plain": [
       "'hgm'"
      ]
     },
     "execution_count": 4,
     "metadata": {},
     "output_type": "execute_result"
    }
   ],
   "source": [
    "t=(1,2,\"hgm\",(1,2,3),[1,2,3])\n",
    "print(t)\n",
    "print(len(t))\n",
    "# indexing\n",
    "t[-1]\n",
    "t[-2][-2]\n",
    "t[-1][-1]\n",
    "t[-3]"
   ]
  },
  {
   "cell_type": "code",
   "execution_count": 7,
   "id": "3dc1429d",
   "metadata": {},
   "outputs": [
    {
     "name": "stdout",
     "output_type": "stream",
     "text": [
      "(1, 2, 'hgm', (1, 2, 3), [1, 2, 3])\n"
     ]
    }
   ],
   "source": [
    "t[-1][1]=2\n",
    "# print(t)"
   ]
  },
  {
   "cell_type": "code",
   "execution_count": 11,
   "id": "149175f0",
   "metadata": {},
   "outputs": [
    {
     "data": {
      "text/plain": [
       "(4, int)"
      ]
     },
     "execution_count": 11,
     "metadata": {},
     "output_type": "execute_result"
    }
   ],
   "source": [
    "t=(2,(1,2,(2,5,4)),[1,2,3],\"hgm\")\n",
    "\n",
    "t[1][-1][2] , type(t[1][-1][2])\n",
    "\n"
   ]
  },
  {
   "cell_type": "code",
   "execution_count": 12,
   "id": "44406ba8",
   "metadata": {},
   "outputs": [
    {
     "data": {
      "text/plain": [
       "(2, 5, 4)"
      ]
     },
     "execution_count": 12,
     "metadata": {},
     "output_type": "execute_result"
    }
   ],
   "source": [
    "t[1][-1]"
   ]
  },
  {
   "cell_type": "code",
   "execution_count": 25,
   "id": "6c9c150f",
   "metadata": {},
   "outputs": [
    {
     "name": "stdout",
     "output_type": "stream",
     "text": [
      "p\n",
      "s\n"
     ]
    }
   ],
   "source": [
    "t1=(1,2,(1,(2,3,4)),[1,2,3],\"ps\")\n",
    "\n",
    "for i in t1[-1]:\n",
    "    print(i)"
   ]
  },
  {
   "cell_type": "code",
   "execution_count": 24,
   "id": "50bf8ee0",
   "metadata": {},
   "outputs": [
    {
     "name": "stdout",
     "output_type": "stream",
     "text": [
      "2\n",
      "3\n",
      "4\n"
     ]
    }
   ],
   "source": [
    "for i in t1[2][1]:\n",
    "    print(i)"
   ]
  },
  {
   "cell_type": "markdown",
   "id": "4258e66b",
   "metadata": {},
   "source": [
    "### agg function  min  max  sum "
   ]
  },
  {
   "cell_type": "code",
   "execution_count": 21,
   "id": "458336e1",
   "metadata": {},
   "outputs": [
    {
     "data": {
      "text/plain": [
       "1"
      ]
     },
     "execution_count": 21,
     "metadata": {},
     "output_type": "execute_result"
    }
   ],
   "source": [
    "t=(1,2,3,4,5,6,9)\n",
    "min(t)"
   ]
  },
  {
   "cell_type": "code",
   "execution_count": 22,
   "id": "8b61022e",
   "metadata": {},
   "outputs": [
    {
     "data": {
      "text/plain": [
       "9"
      ]
     },
     "execution_count": 22,
     "metadata": {},
     "output_type": "execute_result"
    }
   ],
   "source": [
    "max(t)"
   ]
  },
  {
   "cell_type": "code",
   "execution_count": 23,
   "id": "2b8dda39",
   "metadata": {},
   "outputs": [
    {
     "data": {
      "text/plain": [
       "30"
      ]
     },
     "execution_count": 23,
     "metadata": {},
     "output_type": "execute_result"
    }
   ],
   "source": [
    "sum(t)"
   ]
  },
  {
   "cell_type": "markdown",
   "id": "0455f118",
   "metadata": {},
   "source": [
    "### sort"
   ]
  },
  {
   "cell_type": "code",
   "execution_count": 28,
   "id": "5b5dc4a6",
   "metadata": {},
   "outputs": [
    {
     "data": {
      "text/plain": [
       "((4, 2, 5, 6, 1, 3), [1, 2, 3, 4, 5, 6])"
      ]
     },
     "execution_count": 28,
     "metadata": {},
     "output_type": "execute_result"
    }
   ],
   "source": [
    "t=(4,2,5,6,1,3)\n",
    "\n",
    "x=sorted(t)\n",
    "\n",
    "t,x"
   ]
  },
  {
   "cell_type": "code",
   "execution_count": null,
   "id": "b0e7f99f",
   "metadata": {},
   "outputs": [],
   "source": [
    "# we have use sortewd instead of sort in tuple"
   ]
  },
  {
   "cell_type": "code",
   "execution_count": 30,
   "id": "0de422ae",
   "metadata": {},
   "outputs": [
    {
     "ename": "AttributeError",
     "evalue": "'tuple' object has no attribute 'sort'",
     "output_type": "error",
     "traceback": [
      "\u001b[1;31m---------------------------------------------------------------------------\u001b[0m",
      "\u001b[1;31mAttributeError\u001b[0m                            Traceback (most recent call last)",
      "\u001b[1;32m~\\AppData\\Local\\Temp\\ipykernel_11060\\2302213009.py\u001b[0m in \u001b[0;36m<module>\u001b[1;34m\u001b[0m\n\u001b[1;32m----> 1\u001b[1;33m \u001b[0mprint\u001b[0m\u001b[1;33m(\u001b[0m\u001b[0mt\u001b[0m\u001b[1;33m.\u001b[0m\u001b[0msort\u001b[0m\u001b[1;33m(\u001b[0m\u001b[1;33m)\u001b[0m\u001b[1;33m)\u001b[0m\u001b[1;33m\u001b[0m\u001b[1;33m\u001b[0m\u001b[0m\n\u001b[0m",
      "\u001b[1;31mAttributeError\u001b[0m: 'tuple' object has no attribute 'sort'"
     ]
    }
   ],
   "source": [
    "print(t.sort())"
   ]
  },
  {
   "cell_type": "markdown",
   "id": "c013005f",
   "metadata": {},
   "source": [
    "## membership test"
   ]
  },
  {
   "cell_type": "code",
   "execution_count": 31,
   "id": "5a817d61",
   "metadata": {},
   "outputs": [
    {
     "name": "stdout",
     "output_type": "stream",
     "text": [
      "True\n"
     ]
    }
   ],
   "source": [
    "t=(1,2,3,\"h\",\"t\",(1,2,3))\n",
    "\n",
    "print(\"h\" in t)"
   ]
  },
  {
   "cell_type": "code",
   "execution_count": 32,
   "id": "66624d5b",
   "metadata": {},
   "outputs": [
    {
     "name": "stdout",
     "output_type": "stream",
     "text": [
      "False\n"
     ]
    }
   ],
   "source": [
    "print(\"g\" in t)"
   ]
  },
  {
   "cell_type": "code",
   "execution_count": 33,
   "id": "e97a9b94",
   "metadata": {},
   "outputs": [
    {
     "name": "stdout",
     "output_type": "stream",
     "text": [
      "True\n"
     ]
    }
   ],
   "source": [
    "print(\"a\" not in t)"
   ]
  },
  {
   "cell_type": "markdown",
   "id": "5d78daa3",
   "metadata": {},
   "source": [
    "# Dictionaries"
   ]
  },
  {
   "cell_type": "code",
   "execution_count": 35,
   "id": "98fdf7cf",
   "metadata": {},
   "outputs": [
    {
     "data": {
      "text/plain": [
       "list"
      ]
     },
     "execution_count": 35,
     "metadata": {},
     "output_type": "execute_result"
    }
   ],
   "source": [
    "d={1:{\"d1\": 30},2:[\"ml\",30],3:(1,2,3)}\n",
    "type(d)\n",
    "type(d[2])\n"
   ]
  },
  {
   "cell_type": "code",
   "execution_count": 39,
   "id": "e4028e5c",
   "metadata": {},
   "outputs": [
    {
     "data": {
      "text/plain": [
       "dict_keys([1, 2, 3])"
      ]
     },
     "execution_count": 39,
     "metadata": {},
     "output_type": "execute_result"
    }
   ],
   "source": [
    "d.keys()\n"
   ]
  },
  {
   "cell_type": "code",
   "execution_count": 40,
   "id": "71643725",
   "metadata": {},
   "outputs": [
    {
     "data": {
      "text/plain": [
       "dict_values([{'d1': 30}, ['ml', 30], (1, 2, 3)])"
      ]
     },
     "execution_count": 40,
     "metadata": {},
     "output_type": "execute_result"
    }
   ],
   "source": [
    "d.values()"
   ]
  },
  {
   "cell_type": "markdown",
   "id": "b29602ff",
   "metadata": {},
   "source": [
    "### true caller "
   ]
  },
  {
   "cell_type": "code",
   "execution_count": 9,
   "id": "eb4991a1",
   "metadata": {},
   "outputs": [
    {
     "name": "stdout",
     "output_type": "stream",
     "text": [
      "e\n",
      "n/a\n"
     ]
    }
   ],
   "source": [
    "ph_no = {'a':12345,'b':23456,'c':34567,'d':45678}\n",
    "\n",
    "x = str(input())\n",
    "\n",
    "if(x in ph_no):\n",
    "    print(ph_no[x])\n",
    "else:\n",
    "    print(\"n/a\")\n",
    "\n"
   ]
  },
  {
   "cell_type": "code",
   "execution_count": 7,
   "id": "975e9e23",
   "metadata": {},
   "outputs": [
    {
     "name": "stdout",
     "output_type": "stream",
     "text": [
      "b\n",
      "97654\n"
     ]
    }
   ],
   "source": [
    "dict={\"a\":12345,\"b\":97654,\"c\":87453,\"d\":90501}\n",
    "user=str(input())\n",
    "for i in user:\n",
    "    print(dict[i])"
   ]
  },
  {
   "cell_type": "markdown",
   "id": "3e04f90c",
   "metadata": {},
   "source": [
    "####Que, Given a string, the task is to find the frequencies of all the characters in that string and return a dictionary with key as the character and its value as its frequency in the given string.\n",
    "\n",
    "Sample input: \"gpppprogram\" sample output: { 'm': 1, 'p': 4, 'r': 2, 'o': 1, 'g': 2, 'a':1}"
   ]
  },
  {
   "cell_type": "code",
   "execution_count": 10,
   "id": "e4e230dc",
   "metadata": {},
   "outputs": [
    {
     "name": "stdout",
     "output_type": "stream",
     "text": [
      "etr str: gpppprogram\n",
      "{'g': 2, 'p': 4, 'r': 2, 'o': 1, 'a': 1, 'm': 1}\n"
     ]
    }
   ],
   "source": [
    "str1=input(\"etr str: \")\n",
    "#to rep in dict form\n",
    "freq={}\n",
    "#to check all values in str1\n",
    "for i in str1:\n",
    "    if i in freq:\n",
    "        freq[i]+=1\n",
    "    else:\n",
    "        freq[i]=1\n",
    "#prt str func dict\n",
    "print(str(freq))\n",
    "    "
   ]
  },
  {
   "cell_type": "code",
   "execution_count": null,
   "id": "5fe1788e",
   "metadata": {},
   "outputs": [],
   "source": []
  }
 ],
 "metadata": {
  "kernelspec": {
   "display_name": "Python 3 (ipykernel)",
   "language": "python",
   "name": "python3"
  },
  "language_info": {
   "codemirror_mode": {
    "name": "ipython",
    "version": 3
   },
   "file_extension": ".py",
   "mimetype": "text/x-python",
   "name": "python",
   "nbconvert_exporter": "python",
   "pygments_lexer": "ipython3",
   "version": "3.9.12"
  }
 },
 "nbformat": 4,
 "nbformat_minor": 5
}

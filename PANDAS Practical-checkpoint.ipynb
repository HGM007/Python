{
 "cells": [
  {
   "cell_type": "markdown",
   "id": "6f37e790",
   "metadata": {},
   "source": [
    "## Himanshu G Marekar       DS-41"
   ]
  },
  {
   "cell_type": "code",
   "execution_count": 4,
   "id": "a4ad1e3a",
   "metadata": {},
   "outputs": [
    {
     "name": "stdout",
     "output_type": "stream",
     "text": [
      "Requirement already satisfied: pandas in c:\\users\\student\\anaconda3\\lib\\site-packages (1.4.4)Note: you may need to restart the kernel to use updated packages.\n",
      "\n",
      "Requirement already satisfied: python-dateutil>=2.8.1 in c:\\users\\student\\anaconda3\\lib\\site-packages (from pandas) (2.8.2)\n",
      "Requirement already satisfied: numpy>=1.18.5 in c:\\users\\student\\anaconda3\\lib\\site-packages (from pandas) (1.21.5)\n",
      "Requirement already satisfied: pytz>=2020.1 in c:\\users\\student\\anaconda3\\lib\\site-packages (from pandas) (2022.1)\n",
      "Requirement already satisfied: six>=1.5 in c:\\users\\student\\anaconda3\\lib\\site-packages (from python-dateutil>=2.8.1->pandas) (1.16.0)\n"
     ]
    }
   ],
   "source": [
    "pip install pandas"
   ]
  },
  {
   "cell_type": "code",
   "execution_count": 6,
   "id": "0b2e65b1",
   "metadata": {},
   "outputs": [],
   "source": [
    "import pandas as pd"
   ]
  },
  {
   "cell_type": "markdown",
   "id": "11531e8b",
   "metadata": {},
   "source": [
    "### series"
   ]
  },
  {
   "cell_type": "code",
   "execution_count": 7,
   "id": "4909fef1",
   "metadata": {},
   "outputs": [
    {
     "name": "stdout",
     "output_type": "stream",
     "text": [
      "0    2\n",
      "1    4\n",
      "2    5\n",
      "3    6\n",
      "4    9\n",
      "dtype: int64\n",
      "<class 'pandas.core.series.Series'>\n"
     ]
    }
   ],
   "source": [
    "s=pd.Series([2,4,5,6,9])\n",
    "print(s)\n",
    "print(type(s))"
   ]
  },
  {
   "cell_type": "code",
   "execution_count": 11,
   "id": "0eef11f0",
   "metadata": {},
   "outputs": [
    {
     "data": {
      "text/plain": [
       "DatetimeIndex(['2017-11-09', '2017-11-10', '2017-11-11', '2017-11-12',\n",
       "               '2017-11-13', '2017-11-14', '2017-11-15', '2017-11-16',\n",
       "               '2017-11-17', '2017-11-18', '2017-11-19', '2017-11-20',\n",
       "               '2017-11-21', '2017-11-22', '2017-11-23', '2017-11-24',\n",
       "               '2017-11-25', '2017-11-26', '2017-11-27', '2017-11-28',\n",
       "               '2017-11-29', '2017-11-30', '2017-12-01', '2017-12-02',\n",
       "               '2017-12-03', '2017-12-04', '2017-12-05', '2017-12-06',\n",
       "               '2017-12-07', '2017-12-08', '2017-12-09', '2017-12-10',\n",
       "               '2017-12-11', '2017-12-12'],\n",
       "              dtype='datetime64[ns]', freq='D')"
      ]
     },
     "execution_count": 11,
     "metadata": {},
     "output_type": "execute_result"
    }
   ],
   "source": [
    "date_series=pd.date_range(start='11-09-2017',end='12-12-2017')\n",
    "date_series"
   ]
  },
  {
   "cell_type": "markdown",
   "id": "18ead854",
   "metadata": {},
   "source": [
    "### Dataframe"
   ]
  },
  {
   "cell_type": "code",
   "execution_count": 14,
   "id": "74ae60ee",
   "metadata": {},
   "outputs": [],
   "source": [
    "country=[\"India\",\"Russia\",\"Japan\",\"France\",\"Portugal\",\"s-pain\"]\n",
    "symb=[\"Ind\",\"ru\",\"jp\",\"fr\",\"cr7\",\"sp\"]\n",
    "dic_world={\"country\":country,\"symb\":symb}"
   ]
  },
  {
   "cell_type": "code",
   "execution_count": 15,
   "id": "b1392ff8",
   "metadata": {},
   "outputs": [
    {
     "name": "stdout",
     "output_type": "stream",
     "text": [
      "{'country': ['India', 'Russia', 'Japan', 'France', 'Portugal', 's-pain'], 'symb': ['Ind', 'ru', 'jp', 'fr', 'cr7', 'sp']}\n"
     ]
    }
   ],
   "source": [
    "print(dic_world)"
   ]
  },
  {
   "cell_type": "code",
   "execution_count": 16,
   "id": "56abee2f",
   "metadata": {},
   "outputs": [
    {
     "data": {
      "text/plain": [
       "['India', 'Russia', 'Japan', 'France', 'Portugal', 's-pain']"
      ]
     },
     "execution_count": 16,
     "metadata": {},
     "output_type": "execute_result"
    }
   ],
   "source": [
    "dic_world[\"country\"]"
   ]
  },
  {
   "cell_type": "code",
   "execution_count": 17,
   "id": "8850f9fc",
   "metadata": {},
   "outputs": [
    {
     "data": {
      "text/plain": [
       "['Ind', 'ru', 'jp', 'fr', 'cr7', 'sp']"
      ]
     },
     "execution_count": 17,
     "metadata": {},
     "output_type": "execute_result"
    }
   ],
   "source": [
    "dic_world[\"symb\"]"
   ]
  },
  {
   "cell_type": "code",
   "execution_count": 18,
   "id": "a54ab543",
   "metadata": {},
   "outputs": [],
   "source": [
    "data=pd.DataFrame(dic_world)"
   ]
  },
  {
   "cell_type": "code",
   "execution_count": 19,
   "id": "7b2ba037",
   "metadata": {},
   "outputs": [
    {
     "name": "stdout",
     "output_type": "stream",
     "text": [
      "<class 'pandas.core.frame.DataFrame'>\n"
     ]
    }
   ],
   "source": [
    "print(type(data))"
   ]
  },
  {
   "cell_type": "code",
   "execution_count": 20,
   "id": "1da7b96a",
   "metadata": {},
   "outputs": [
    {
     "name": "stdout",
     "output_type": "stream",
     "text": [
      "    country symb\n",
      "0     India  Ind\n",
      "1    Russia   ru\n",
      "2     Japan   jp\n",
      "3    France   fr\n",
      "4  Portugal  cr7\n",
      "5    s-pain   sp\n"
     ]
    }
   ],
   "source": [
    "print(data)"
   ]
  },
  {
   "cell_type": "code",
   "execution_count": 23,
   "id": "636fe53d",
   "metadata": {},
   "outputs": [
    {
     "name": "stdout",
     "output_type": "stream",
     "text": [
      "0    Ind\n",
      "1     ru\n",
      "2     jp\n",
      "3     fr\n",
      "4    cr7\n",
      "5     sp\n",
      "Name: symb, dtype: object\n"
     ]
    }
   ],
   "source": [
    "print(data[\"symb\"])\n",
    "#print(data.symb)"
   ]
  },
  {
   "cell_type": "code",
   "execution_count": 33,
   "id": "13bb55d2",
   "metadata": {},
   "outputs": [],
   "source": [
    "cars_per_cap=[900,456,234,675,62,658,95]\n",
    "ctr=[\"India\",\"Russia\",\"Japan\",\"France\",\"Portugal\",\"s-pain\",\"Argentina\"]\n",
    "drives_right=[True,False,True,False,False,True,False]"
   ]
  },
  {
   "cell_type": "code",
   "execution_count": 34,
   "id": "4f688d8c",
   "metadata": {},
   "outputs": [],
   "source": [
    "#create dic\n",
    "dict={\"cars_per_cap\" : cars_per_cap,\"ctr\":ctr,\"drives_right\":drives_right}"
   ]
  },
  {
   "cell_type": "code",
   "execution_count": 35,
   "id": "e9095a01",
   "metadata": {},
   "outputs": [],
   "source": [
    "#create dataframe\n",
    "dic=pd.DataFrame(dict)"
   ]
  },
  {
   "cell_type": "code",
   "execution_count": 36,
   "id": "3b3e8cbc",
   "metadata": {},
   "outputs": [
    {
     "name": "stdout",
     "output_type": "stream",
     "text": [
      "   cars_per_cap        ctr  drives_right\n",
      "0           900      India          True\n",
      "1           456     Russia         False\n",
      "2           234      Japan          True\n",
      "3           675     France         False\n",
      "4            62   Portugal         False\n",
      "5           658     s-pain          True\n",
      "6            95  Argentina         False\n"
     ]
    }
   ],
   "source": [
    "print(dic)"
   ]
  },
  {
   "cell_type": "code",
   "execution_count": 41,
   "id": "eeebf34c",
   "metadata": {},
   "outputs": [
    {
     "name": "stdout",
     "output_type": "stream",
     "text": [
      "62\n",
      "900\n",
      "321.18271020298295\n",
      "7\n"
     ]
    }
   ],
   "source": [
    "print(dic.cars_per_cap.min())\n",
    "print(dic.cars_per_cap.max())\n",
    "print(dic.cars_per_cap.std())\n",
    "print(dic.cars_per_cap.count())"
   ]
  },
  {
   "cell_type": "markdown",
   "id": "b00cebb9",
   "metadata": {},
   "source": [
    "### Df using list"
   ]
  },
  {
   "cell_type": "code",
   "execution_count": 44,
   "id": "7b72a834",
   "metadata": {},
   "outputs": [],
   "source": [
    "ctr=[\"India\",\"Russia\",\"Japan\",\"France\",\"Portugal\",\"s-pain\",\"Argentina\"]\n",
    "cars_per_cap=[900,456,234,675,62,658,95]\n",
    "df_list_1=pd.DataFrame(ctr,columns=['ctr name'])"
   ]
  },
  {
   "cell_type": "code",
   "execution_count": 45,
   "id": "499f8298",
   "metadata": {},
   "outputs": [
    {
     "name": "stdout",
     "output_type": "stream",
     "text": [
      "    ctr name\n",
      "0      India\n",
      "1     Russia\n",
      "2      Japan\n",
      "3     France\n",
      "4   Portugal\n",
      "5     s-pain\n",
      "6  Argentina\n"
     ]
    }
   ],
   "source": [
    "print(df_list_1)"
   ]
  },
  {
   "cell_type": "code",
   "execution_count": 50,
   "id": "53eef583",
   "metadata": {},
   "outputs": [],
   "source": [
    "df_2=pd.DataFrame(list(zip(ctr,cars_per_cap)),columns=['ctr name','cars_per_cap'])"
   ]
  },
  {
   "cell_type": "code",
   "execution_count": 51,
   "id": "70fdb59a",
   "metadata": {},
   "outputs": [
    {
     "name": "stdout",
     "output_type": "stream",
     "text": [
      "    ctr name  cars_per_cap\n",
      "0      India           900\n",
      "1     Russia           456\n",
      "2      Japan           234\n",
      "3     France           675\n",
      "4   Portugal            62\n",
      "5     s-pain           658\n",
      "6  Argentina            95\n"
     ]
    }
   ],
   "source": [
    "print(df_2)"
   ]
  },
  {
   "cell_type": "code",
   "execution_count": 54,
   "id": "1f575a64",
   "metadata": {},
   "outputs": [
    {
     "name": "stdout",
     "output_type": "stream",
     "text": [
      "       FName   Lname  Code\n",
      "0        hgm  marcus     7\n",
      "1     WarGod      AD    69\n",
      "2  Duck_feet     AcA    31\n"
     ]
    },
    {
     "name": "stderr",
     "output_type": "stream",
     "text": [
      "C:\\Users\\Student\\AppData\\Local\\Temp\\ipykernel_9416\\165820475.py:2: FutureWarning: Could not cast to int32, falling back to object. This behavior is deprecated. In a future version, when a dtype is passed to 'DataFrame', either all columns will be cast to that dtype, or a TypeError will be raised.\n",
      "  df=pd.DataFrame(lst,columns=['FName','Lname','Code'],dtype=int)\n"
     ]
    }
   ],
   "source": [
    "lst=[['hgm','marcus',7],['WarGod','AD',69],['Duck_feet','AcA',31]]\n",
    "df=pd.DataFrame(lst,columns=['FName','Lname','Code'],dtype=int)\n",
    "print(df)"
   ]
  },
  {
   "cell_type": "markdown",
   "id": "b8cd65d6",
   "metadata": {},
   "source": [
    "### Working with CSV"
   ]
  },
  {
   "cell_type": "code",
   "execution_count": 3,
   "id": "4880492a",
   "metadata": {},
   "outputs": [],
   "source": [
    "sport = pd.read_csv(\"tennis.csv\") "
   ]
  },
  {
   "cell_type": "code",
   "execution_count": 4,
   "id": "1093bb2b",
   "metadata": {},
   "outputs": [
    {
     "data": {
      "text/plain": [
       "pandas.core.frame.DataFrame"
      ]
     },
     "execution_count": 4,
     "metadata": {},
     "output_type": "execute_result"
    }
   ],
   "source": [
    "type(sport)"
   ]
  },
  {
   "cell_type": "code",
   "execution_count": 6,
   "id": "c24c185a",
   "metadata": {
    "scrolled": true
   },
   "outputs": [
    {
     "data": {
      "text/html": [
       "<div>\n",
       "<style scoped>\n",
       "    .dataframe tbody tr th:only-of-type {\n",
       "        vertical-align: middle;\n",
       "    }\n",
       "\n",
       "    .dataframe tbody tr th {\n",
       "        vertical-align: top;\n",
       "    }\n",
       "\n",
       "    .dataframe thead th {\n",
       "        text-align: right;\n",
       "    }\n",
       "</style>\n",
       "<table border=\"1\" class=\"dataframe\">\n",
       "  <thead>\n",
       "    <tr style=\"text-align: right;\">\n",
       "      <th></th>\n",
       "      <th>Day</th>\n",
       "      <th>Outlook</th>\n",
       "      <th>Temp</th>\n",
       "      <th>Humidity</th>\n",
       "      <th>Wind</th>\n",
       "      <th>PlayTennis</th>\n",
       "    </tr>\n",
       "  </thead>\n",
       "  <tbody>\n",
       "    <tr>\n",
       "      <th>0</th>\n",
       "      <td>D1</td>\n",
       "      <td>Sunny</td>\n",
       "      <td>Hot</td>\n",
       "      <td>High</td>\n",
       "      <td>Weak</td>\n",
       "      <td>No</td>\n",
       "    </tr>\n",
       "    <tr>\n",
       "      <th>1</th>\n",
       "      <td>D2</td>\n",
       "      <td>Sunny</td>\n",
       "      <td>Hot</td>\n",
       "      <td>High</td>\n",
       "      <td>Strong</td>\n",
       "      <td>No</td>\n",
       "    </tr>\n",
       "    <tr>\n",
       "      <th>2</th>\n",
       "      <td>D3</td>\n",
       "      <td>Overcast</td>\n",
       "      <td>Hot</td>\n",
       "      <td>High</td>\n",
       "      <td>Weak</td>\n",
       "      <td>Yes</td>\n",
       "    </tr>\n",
       "    <tr>\n",
       "      <th>3</th>\n",
       "      <td>D4</td>\n",
       "      <td>Rain</td>\n",
       "      <td>Mild</td>\n",
       "      <td>High</td>\n",
       "      <td>Weak</td>\n",
       "      <td>Yes</td>\n",
       "    </tr>\n",
       "    <tr>\n",
       "      <th>4</th>\n",
       "      <td>D5</td>\n",
       "      <td>Rain</td>\n",
       "      <td>Cool</td>\n",
       "      <td>Normal</td>\n",
       "      <td>Weak</td>\n",
       "      <td>Yes</td>\n",
       "    </tr>\n",
       "    <tr>\n",
       "      <th>5</th>\n",
       "      <td>D6</td>\n",
       "      <td>Rain</td>\n",
       "      <td>Cool</td>\n",
       "      <td>Normal</td>\n",
       "      <td>Strong</td>\n",
       "      <td>No</td>\n",
       "    </tr>\n",
       "    <tr>\n",
       "      <th>6</th>\n",
       "      <td>D7</td>\n",
       "      <td>Overcast</td>\n",
       "      <td>Cool</td>\n",
       "      <td>Normal</td>\n",
       "      <td>Weak</td>\n",
       "      <td>Yes</td>\n",
       "    </tr>\n",
       "    <tr>\n",
       "      <th>7</th>\n",
       "      <td>D8</td>\n",
       "      <td>Sunny</td>\n",
       "      <td>Mild</td>\n",
       "      <td>High</td>\n",
       "      <td>Weak</td>\n",
       "      <td>No</td>\n",
       "    </tr>\n",
       "    <tr>\n",
       "      <th>8</th>\n",
       "      <td>D9</td>\n",
       "      <td>Sunny</td>\n",
       "      <td>Cool</td>\n",
       "      <td>Normal</td>\n",
       "      <td>Weak</td>\n",
       "      <td>Yes</td>\n",
       "    </tr>\n",
       "    <tr>\n",
       "      <th>9</th>\n",
       "      <td>D10</td>\n",
       "      <td>Rain</td>\n",
       "      <td>Mild</td>\n",
       "      <td>Normal</td>\n",
       "      <td>Strong</td>\n",
       "      <td>Yes</td>\n",
       "    </tr>\n",
       "    <tr>\n",
       "      <th>10</th>\n",
       "      <td>D11</td>\n",
       "      <td>Sunny</td>\n",
       "      <td>Mild</td>\n",
       "      <td>Normal</td>\n",
       "      <td>Strong</td>\n",
       "      <td>Yes</td>\n",
       "    </tr>\n",
       "    <tr>\n",
       "      <th>11</th>\n",
       "      <td>D12</td>\n",
       "      <td>Overcast</td>\n",
       "      <td>Mild</td>\n",
       "      <td>High</td>\n",
       "      <td>Strong</td>\n",
       "      <td>Yes</td>\n",
       "    </tr>\n",
       "    <tr>\n",
       "      <th>12</th>\n",
       "      <td>D13</td>\n",
       "      <td>Overcast</td>\n",
       "      <td>Hot</td>\n",
       "      <td>Normal</td>\n",
       "      <td>Weak</td>\n",
       "      <td>Yes</td>\n",
       "    </tr>\n",
       "    <tr>\n",
       "      <th>13</th>\n",
       "      <td>D14</td>\n",
       "      <td>Rain</td>\n",
       "      <td>Mild</td>\n",
       "      <td>High</td>\n",
       "      <td>Strong</td>\n",
       "      <td>No</td>\n",
       "    </tr>\n",
       "  </tbody>\n",
       "</table>\n",
       "</div>"
      ],
      "text/plain": [
       "    Day   Outlook  Temp Humidity    Wind PlayTennis\n",
       "0    D1     Sunny   Hot     High    Weak         No\n",
       "1    D2     Sunny   Hot     High  Strong         No\n",
       "2    D3  Overcast   Hot     High    Weak        Yes\n",
       "3    D4      Rain  Mild     High    Weak        Yes\n",
       "4    D5      Rain  Cool   Normal    Weak        Yes\n",
       "5    D6      Rain  Cool   Normal  Strong         No\n",
       "6    D7  Overcast  Cool   Normal    Weak        Yes\n",
       "7    D8     Sunny  Mild     High    Weak         No\n",
       "8    D9     Sunny  Cool   Normal    Weak        Yes\n",
       "9   D10      Rain  Mild   Normal  Strong        Yes\n",
       "10  D11     Sunny  Mild   Normal  Strong        Yes\n",
       "11  D12  Overcast  Mild     High  Strong        Yes\n",
       "12  D13  Overcast   Hot   Normal    Weak        Yes\n",
       "13  D14      Rain  Mild     High  Strong         No"
      ]
     },
     "execution_count": 6,
     "metadata": {},
     "output_type": "execute_result"
    }
   ],
   "source": [
    "sport"
   ]
  },
  {
   "cell_type": "code",
   "execution_count": 7,
   "id": "6c8d89ca",
   "metadata": {},
   "outputs": [
    {
     "data": {
      "text/html": [
       "<div>\n",
       "<style scoped>\n",
       "    .dataframe tbody tr th:only-of-type {\n",
       "        vertical-align: middle;\n",
       "    }\n",
       "\n",
       "    .dataframe tbody tr th {\n",
       "        vertical-align: top;\n",
       "    }\n",
       "\n",
       "    .dataframe thead th {\n",
       "        text-align: right;\n",
       "    }\n",
       "</style>\n",
       "<table border=\"1\" class=\"dataframe\">\n",
       "  <thead>\n",
       "    <tr style=\"text-align: right;\">\n",
       "      <th></th>\n",
       "      <th>Day</th>\n",
       "      <th>Outlook</th>\n",
       "      <th>Temp</th>\n",
       "      <th>Humidity</th>\n",
       "      <th>Wind</th>\n",
       "      <th>PlayTennis</th>\n",
       "    </tr>\n",
       "  </thead>\n",
       "  <tbody>\n",
       "    <tr>\n",
       "      <th>0</th>\n",
       "      <td>D1</td>\n",
       "      <td>Sunny</td>\n",
       "      <td>Hot</td>\n",
       "      <td>High</td>\n",
       "      <td>Weak</td>\n",
       "      <td>No</td>\n",
       "    </tr>\n",
       "    <tr>\n",
       "      <th>1</th>\n",
       "      <td>D2</td>\n",
       "      <td>Sunny</td>\n",
       "      <td>Hot</td>\n",
       "      <td>High</td>\n",
       "      <td>Strong</td>\n",
       "      <td>No</td>\n",
       "    </tr>\n",
       "    <tr>\n",
       "      <th>2</th>\n",
       "      <td>D3</td>\n",
       "      <td>Overcast</td>\n",
       "      <td>Hot</td>\n",
       "      <td>High</td>\n",
       "      <td>Weak</td>\n",
       "      <td>Yes</td>\n",
       "    </tr>\n",
       "    <tr>\n",
       "      <th>3</th>\n",
       "      <td>D4</td>\n",
       "      <td>Rain</td>\n",
       "      <td>Mild</td>\n",
       "      <td>High</td>\n",
       "      <td>Weak</td>\n",
       "      <td>Yes</td>\n",
       "    </tr>\n",
       "    <tr>\n",
       "      <th>4</th>\n",
       "      <td>D5</td>\n",
       "      <td>Rain</td>\n",
       "      <td>Cool</td>\n",
       "      <td>Normal</td>\n",
       "      <td>Weak</td>\n",
       "      <td>Yes</td>\n",
       "    </tr>\n",
       "  </tbody>\n",
       "</table>\n",
       "</div>"
      ],
      "text/plain": [
       "  Day   Outlook  Temp Humidity    Wind PlayTennis\n",
       "0  D1     Sunny   Hot     High    Weak         No\n",
       "1  D2     Sunny   Hot     High  Strong         No\n",
       "2  D3  Overcast   Hot     High    Weak        Yes\n",
       "3  D4      Rain  Mild     High    Weak        Yes\n",
       "4  D5      Rain  Cool   Normal    Weak        Yes"
      ]
     },
     "execution_count": 7,
     "metadata": {},
     "output_type": "execute_result"
    }
   ],
   "source": [
    "sport.head()"
   ]
  },
  {
   "cell_type": "code",
   "execution_count": 8,
   "id": "e73d8a37",
   "metadata": {},
   "outputs": [
    {
     "data": {
      "text/html": [
       "<div>\n",
       "<style scoped>\n",
       "    .dataframe tbody tr th:only-of-type {\n",
       "        vertical-align: middle;\n",
       "    }\n",
       "\n",
       "    .dataframe tbody tr th {\n",
       "        vertical-align: top;\n",
       "    }\n",
       "\n",
       "    .dataframe thead th {\n",
       "        text-align: right;\n",
       "    }\n",
       "</style>\n",
       "<table border=\"1\" class=\"dataframe\">\n",
       "  <thead>\n",
       "    <tr style=\"text-align: right;\">\n",
       "      <th></th>\n",
       "      <th>Day</th>\n",
       "      <th>Outlook</th>\n",
       "      <th>Temp</th>\n",
       "      <th>Humidity</th>\n",
       "      <th>Wind</th>\n",
       "      <th>PlayTennis</th>\n",
       "    </tr>\n",
       "  </thead>\n",
       "  <tbody>\n",
       "    <tr>\n",
       "      <th>9</th>\n",
       "      <td>D10</td>\n",
       "      <td>Rain</td>\n",
       "      <td>Mild</td>\n",
       "      <td>Normal</td>\n",
       "      <td>Strong</td>\n",
       "      <td>Yes</td>\n",
       "    </tr>\n",
       "    <tr>\n",
       "      <th>10</th>\n",
       "      <td>D11</td>\n",
       "      <td>Sunny</td>\n",
       "      <td>Mild</td>\n",
       "      <td>Normal</td>\n",
       "      <td>Strong</td>\n",
       "      <td>Yes</td>\n",
       "    </tr>\n",
       "    <tr>\n",
       "      <th>11</th>\n",
       "      <td>D12</td>\n",
       "      <td>Overcast</td>\n",
       "      <td>Mild</td>\n",
       "      <td>High</td>\n",
       "      <td>Strong</td>\n",
       "      <td>Yes</td>\n",
       "    </tr>\n",
       "    <tr>\n",
       "      <th>12</th>\n",
       "      <td>D13</td>\n",
       "      <td>Overcast</td>\n",
       "      <td>Hot</td>\n",
       "      <td>Normal</td>\n",
       "      <td>Weak</td>\n",
       "      <td>Yes</td>\n",
       "    </tr>\n",
       "    <tr>\n",
       "      <th>13</th>\n",
       "      <td>D14</td>\n",
       "      <td>Rain</td>\n",
       "      <td>Mild</td>\n",
       "      <td>High</td>\n",
       "      <td>Strong</td>\n",
       "      <td>No</td>\n",
       "    </tr>\n",
       "  </tbody>\n",
       "</table>\n",
       "</div>"
      ],
      "text/plain": [
       "    Day   Outlook  Temp Humidity    Wind PlayTennis\n",
       "9   D10      Rain  Mild   Normal  Strong        Yes\n",
       "10  D11     Sunny  Mild   Normal  Strong        Yes\n",
       "11  D12  Overcast  Mild     High  Strong        Yes\n",
       "12  D13  Overcast   Hot   Normal    Weak        Yes\n",
       "13  D14      Rain  Mild     High  Strong         No"
      ]
     },
     "execution_count": 8,
     "metadata": {},
     "output_type": "execute_result"
    }
   ],
   "source": [
    "sport.tail()"
   ]
  },
  {
   "cell_type": "code",
   "execution_count": 9,
   "id": "8fc6be97",
   "metadata": {},
   "outputs": [
    {
     "name": "stdout",
     "output_type": "stream",
     "text": [
      "<class 'pandas.core.frame.DataFrame'>\n",
      "RangeIndex: 14 entries, 0 to 13\n",
      "Data columns (total 6 columns):\n",
      " #   Column      Non-Null Count  Dtype \n",
      "---  ------      --------------  ----- \n",
      " 0   Day         14 non-null     object\n",
      " 1   Outlook     14 non-null     object\n",
      " 2   Temp        14 non-null     object\n",
      " 3   Humidity    14 non-null     object\n",
      " 4   Wind        14 non-null     object\n",
      " 5   PlayTennis  14 non-null     object\n",
      "dtypes: object(6)\n",
      "memory usage: 800.0+ bytes\n"
     ]
    }
   ],
   "source": [
    "sport.info()"
   ]
  },
  {
   "cell_type": "code",
   "execution_count": 10,
   "id": "26ae862a",
   "metadata": {},
   "outputs": [
    {
     "data": {
      "text/html": [
       "<div>\n",
       "<style scoped>\n",
       "    .dataframe tbody tr th:only-of-type {\n",
       "        vertical-align: middle;\n",
       "    }\n",
       "\n",
       "    .dataframe tbody tr th {\n",
       "        vertical-align: top;\n",
       "    }\n",
       "\n",
       "    .dataframe thead th {\n",
       "        text-align: right;\n",
       "    }\n",
       "</style>\n",
       "<table border=\"1\" class=\"dataframe\">\n",
       "  <thead>\n",
       "    <tr style=\"text-align: right;\">\n",
       "      <th></th>\n",
       "      <th>Day</th>\n",
       "      <th>Outlook</th>\n",
       "      <th>Temp</th>\n",
       "      <th>Humidity</th>\n",
       "      <th>Wind</th>\n",
       "      <th>PlayTennis</th>\n",
       "    </tr>\n",
       "  </thead>\n",
       "  <tbody>\n",
       "    <tr>\n",
       "      <th>count</th>\n",
       "      <td>14</td>\n",
       "      <td>14</td>\n",
       "      <td>14</td>\n",
       "      <td>14</td>\n",
       "      <td>14</td>\n",
       "      <td>14</td>\n",
       "    </tr>\n",
       "    <tr>\n",
       "      <th>unique</th>\n",
       "      <td>14</td>\n",
       "      <td>3</td>\n",
       "      <td>3</td>\n",
       "      <td>2</td>\n",
       "      <td>2</td>\n",
       "      <td>2</td>\n",
       "    </tr>\n",
       "    <tr>\n",
       "      <th>top</th>\n",
       "      <td>D1</td>\n",
       "      <td>Sunny</td>\n",
       "      <td>Mild</td>\n",
       "      <td>High</td>\n",
       "      <td>Weak</td>\n",
       "      <td>Yes</td>\n",
       "    </tr>\n",
       "    <tr>\n",
       "      <th>freq</th>\n",
       "      <td>1</td>\n",
       "      <td>5</td>\n",
       "      <td>6</td>\n",
       "      <td>7</td>\n",
       "      <td>8</td>\n",
       "      <td>9</td>\n",
       "    </tr>\n",
       "  </tbody>\n",
       "</table>\n",
       "</div>"
      ],
      "text/plain": [
       "       Day Outlook  Temp Humidity  Wind PlayTennis\n",
       "count   14      14    14       14    14         14\n",
       "unique  14       3     3        2     2          2\n",
       "top     D1   Sunny  Mild     High  Weak        Yes\n",
       "freq     1       5     6        7     8          9"
      ]
     },
     "execution_count": 10,
     "metadata": {},
     "output_type": "execute_result"
    }
   ],
   "source": [
    "sport.describe()"
   ]
  },
  {
   "cell_type": "code",
   "execution_count": 12,
   "id": "5b40671b",
   "metadata": {},
   "outputs": [
    {
     "data": {
      "text/plain": [
       "count       14\n",
       "unique       3\n",
       "top       Mild\n",
       "freq         6\n",
       "Name: Temp, dtype: object"
      ]
     },
     "execution_count": 12,
     "metadata": {},
     "output_type": "execute_result"
    }
   ],
   "source": [
    "#for description of any section\n",
    "sport.Temp.describe()"
   ]
  },
  {
   "cell_type": "code",
   "execution_count": 13,
   "id": "4df888a9",
   "metadata": {},
   "outputs": [
    {
     "data": {
      "text/plain": [
       "Index(['Day', 'Outlook', 'Temp', 'Humidity', 'Wind', 'PlayTennis'], dtype='object')"
      ]
     },
     "execution_count": 13,
     "metadata": {},
     "output_type": "execute_result"
    }
   ],
   "source": [
    "sport.columns"
   ]
  },
  {
   "cell_type": "code",
   "execution_count": 15,
   "id": "5f2e25f5",
   "metadata": {},
   "outputs": [
    {
     "data": {
      "text/plain": [
       "Day           object\n",
       "Outlook       object\n",
       "Temp          object\n",
       "Humidity      object\n",
       "Wind          object\n",
       "PlayTennis    object\n",
       "dtype: object"
      ]
     },
     "execution_count": 15,
     "metadata": {},
     "output_type": "execute_result"
    }
   ],
   "source": [
    "sport.dtypes"
   ]
  },
  {
   "cell_type": "code",
   "execution_count": 16,
   "id": "3180851f",
   "metadata": {},
   "outputs": [
    {
     "data": {
      "text/plain": [
       "(14, 6)"
      ]
     },
     "execution_count": 16,
     "metadata": {},
     "output_type": "execute_result"
    }
   ],
   "source": [
    "sport.shape"
   ]
  },
  {
   "cell_type": "code",
   "execution_count": 19,
   "id": "64fea971",
   "metadata": {},
   "outputs": [
    {
     "data": {
      "text/html": [
       "<div>\n",
       "<style scoped>\n",
       "    .dataframe tbody tr th:only-of-type {\n",
       "        vertical-align: middle;\n",
       "    }\n",
       "\n",
       "    .dataframe tbody tr th {\n",
       "        vertical-align: top;\n",
       "    }\n",
       "\n",
       "    .dataframe thead th {\n",
       "        text-align: right;\n",
       "    }\n",
       "</style>\n",
       "<table border=\"1\" class=\"dataframe\">\n",
       "  <thead>\n",
       "    <tr style=\"text-align: right;\">\n",
       "      <th></th>\n",
       "      <th>Temp</th>\n",
       "      <th>Outlook</th>\n",
       "    </tr>\n",
       "  </thead>\n",
       "  <tbody>\n",
       "    <tr>\n",
       "      <th>0</th>\n",
       "      <td>Hot</td>\n",
       "      <td>Sunny</td>\n",
       "    </tr>\n",
       "    <tr>\n",
       "      <th>1</th>\n",
       "      <td>Hot</td>\n",
       "      <td>Sunny</td>\n",
       "    </tr>\n",
       "  </tbody>\n",
       "</table>\n",
       "</div>"
      ],
      "text/plain": [
       "  Temp Outlook\n",
       "0  Hot   Sunny\n",
       "1  Hot   Sunny"
      ]
     },
     "execution_count": 19,
     "metadata": {},
     "output_type": "execute_result"
    }
   ],
   "source": [
    "sport.Temp\n",
    "sport['Temp']\n",
    "sport[['Temp','Outlook']]\n",
    "sport[['Temp','Outlook']].head(2)"
   ]
  },
  {
   "cell_type": "code",
   "execution_count": 21,
   "id": "053fd42c",
   "metadata": {},
   "outputs": [
    {
     "data": {
      "text/html": [
       "<div>\n",
       "<style scoped>\n",
       "    .dataframe tbody tr th:only-of-type {\n",
       "        vertical-align: middle;\n",
       "    }\n",
       "\n",
       "    .dataframe tbody tr th {\n",
       "        vertical-align: top;\n",
       "    }\n",
       "\n",
       "    .dataframe thead th {\n",
       "        text-align: right;\n",
       "    }\n",
       "</style>\n",
       "<table border=\"1\" class=\"dataframe\">\n",
       "  <thead>\n",
       "    <tr style=\"text-align: right;\">\n",
       "      <th></th>\n",
       "      <th>Temp</th>\n",
       "      <th>Wind</th>\n",
       "    </tr>\n",
       "  </thead>\n",
       "  <tbody>\n",
       "    <tr>\n",
       "      <th>4</th>\n",
       "      <td>Cool</td>\n",
       "      <td>Weak</td>\n",
       "    </tr>\n",
       "    <tr>\n",
       "      <th>5</th>\n",
       "      <td>Cool</td>\n",
       "      <td>Strong</td>\n",
       "    </tr>\n",
       "    <tr>\n",
       "      <th>6</th>\n",
       "      <td>Cool</td>\n",
       "      <td>Weak</td>\n",
       "    </tr>\n",
       "  </tbody>\n",
       "</table>\n",
       "</div>"
      ],
      "text/plain": [
       "   Temp    Wind\n",
       "4  Cool    Weak\n",
       "5  Cool  Strong\n",
       "6  Cool    Weak"
      ]
     },
     "execution_count": 21,
     "metadata": {},
     "output_type": "execute_result"
    }
   ],
   "source": [
    "sport[['Temp','Wind','Day']][2:6]\n",
    "sport[['Temp','Wind']][4:7]"
   ]
  },
  {
   "cell_type": "markdown",
   "id": "9abc7c29",
   "metadata": {},
   "source": [
    "### Label and position based indexing : df.loc  and df.iloc"
   ]
  },
  {
   "cell_type": "code",
   "execution_count": 27,
   "id": "36154603",
   "metadata": {},
   "outputs": [
    {
     "data": {
      "text/html": [
       "<div>\n",
       "<style scoped>\n",
       "    .dataframe tbody tr th:only-of-type {\n",
       "        vertical-align: middle;\n",
       "    }\n",
       "\n",
       "    .dataframe tbody tr th {\n",
       "        vertical-align: top;\n",
       "    }\n",
       "\n",
       "    .dataframe thead th {\n",
       "        text-align: right;\n",
       "    }\n",
       "</style>\n",
       "<table border=\"1\" class=\"dataframe\">\n",
       "  <thead>\n",
       "    <tr style=\"text-align: right;\">\n",
       "      <th></th>\n",
       "      <th>Temp</th>\n",
       "      <th>Humidity</th>\n",
       "      <th>Wind</th>\n",
       "    </tr>\n",
       "  </thead>\n",
       "  <tbody>\n",
       "    <tr>\n",
       "      <th>0</th>\n",
       "      <td>Hot</td>\n",
       "      <td>High</td>\n",
       "      <td>Weak</td>\n",
       "    </tr>\n",
       "    <tr>\n",
       "      <th>1</th>\n",
       "      <td>Hot</td>\n",
       "      <td>High</td>\n",
       "      <td>Strong</td>\n",
       "    </tr>\n",
       "    <tr>\n",
       "      <th>2</th>\n",
       "      <td>Hot</td>\n",
       "      <td>High</td>\n",
       "      <td>Weak</td>\n",
       "    </tr>\n",
       "    <tr>\n",
       "      <th>3</th>\n",
       "      <td>Mild</td>\n",
       "      <td>High</td>\n",
       "      <td>Weak</td>\n",
       "    </tr>\n",
       "  </tbody>\n",
       "</table>\n",
       "</div>"
      ],
      "text/plain": [
       "   Temp Humidity    Wind\n",
       "0   Hot     High    Weak\n",
       "1   Hot     High  Strong\n",
       "2   Hot     High    Weak\n",
       "3  Mild     High    Weak"
      ]
     },
     "execution_count": 27,
     "metadata": {},
     "output_type": "execute_result"
    }
   ],
   "source": [
    "## label-based indexing\n",
    "#loc = location\n",
    "sport.loc[5]\n",
    "sport.loc[:5]\n",
    "sport.loc[:5,'Temp']\n",
    "#prnt from temp to wind \n",
    "sport.loc[:3,'Temp':'Wind']"
   ]
  },
  {
   "cell_type": "code",
   "execution_count": 30,
   "id": "d6c6370e",
   "metadata": {},
   "outputs": [
    {
     "data": {
      "text/plain": [
       "'Weak'"
      ]
     },
     "execution_count": 30,
     "metadata": {},
     "output_type": "execute_result"
    }
   ],
   "source": [
    "###position-based indexing\n",
    "#iloc = index location or ilocation\n",
    "sport.iloc[:3]\n",
    "#index(3,4)\n",
    "sport.iloc[3,4]"
   ]
  },
  {
   "cell_type": "code",
   "execution_count": 33,
   "id": "80f1305b",
   "metadata": {},
   "outputs": [
    {
     "data": {
      "text/html": [
       "<div>\n",
       "<style scoped>\n",
       "    .dataframe tbody tr th:only-of-type {\n",
       "        vertical-align: middle;\n",
       "    }\n",
       "\n",
       "    .dataframe tbody tr th {\n",
       "        vertical-align: top;\n",
       "    }\n",
       "\n",
       "    .dataframe thead th {\n",
       "        text-align: right;\n",
       "    }\n",
       "</style>\n",
       "<table border=\"1\" class=\"dataframe\">\n",
       "  <thead>\n",
       "    <tr style=\"text-align: right;\">\n",
       "      <th></th>\n",
       "      <th>Outlook</th>\n",
       "      <th>Temp</th>\n",
       "    </tr>\n",
       "  </thead>\n",
       "  <tbody>\n",
       "    <tr>\n",
       "      <th>0</th>\n",
       "      <td>Sunny</td>\n",
       "      <td>Hot</td>\n",
       "    </tr>\n",
       "    <tr>\n",
       "      <th>1</th>\n",
       "      <td>Sunny</td>\n",
       "      <td>Hot</td>\n",
       "    </tr>\n",
       "    <tr>\n",
       "      <th>2</th>\n",
       "      <td>Overcast</td>\n",
       "      <td>Hot</td>\n",
       "    </tr>\n",
       "    <tr>\n",
       "      <th>3</th>\n",
       "      <td>Rain</td>\n",
       "      <td>Mild</td>\n",
       "    </tr>\n",
       "    <tr>\n",
       "      <th>4</th>\n",
       "      <td>Rain</td>\n",
       "      <td>Cool</td>\n",
       "    </tr>\n",
       "  </tbody>\n",
       "</table>\n",
       "</div>"
      ],
      "text/plain": [
       "    Outlook  Temp\n",
       "0     Sunny   Hot\n",
       "1     Sunny   Hot\n",
       "2  Overcast   Hot\n",
       "3      Rain  Mild\n",
       "4      Rain  Cool"
      ]
     },
     "execution_count": 33,
     "metadata": {},
     "output_type": "execute_result"
    }
   ],
   "source": [
    "#loc[row_ind , clm_ind]\n",
    "sport.iloc[0:5,1:3]"
   ]
  },
  {
   "cell_type": "markdown",
   "id": "137e72cd",
   "metadata": {},
   "source": [
    "### conditional Query"
   ]
  },
  {
   "cell_type": "code",
   "execution_count": 36,
   "id": "cfc0c17b",
   "metadata": {},
   "outputs": [
    {
     "data": {
      "text/plain": [
       "Day           4\n",
       "Outlook       4\n",
       "Temp          4\n",
       "Humidity      4\n",
       "Wind          4\n",
       "PlayTennis    4\n",
       "dtype: int64"
      ]
     },
     "execution_count": 36,
     "metadata": {},
     "output_type": "execute_result"
    }
   ],
   "source": [
    "sport[sport['Outlook']=='Overcast'].count()"
   ]
  },
  {
   "cell_type": "code",
   "execution_count": 37,
   "id": "22ae153a",
   "metadata": {},
   "outputs": [
    {
     "data": {
      "text/plain": [
       "5"
      ]
     },
     "execution_count": 37,
     "metadata": {},
     "output_type": "execute_result"
    }
   ],
   "source": [
    "sport[sport['Outlook']=='Sunny'].count()[3]"
   ]
  },
  {
   "cell_type": "code",
   "execution_count": null,
   "id": "eb142548",
   "metadata": {},
   "outputs": [],
   "source": [
    "sport[(sport['Outlook']=='Overcast') & (sport['Humidity ']=='Normal')].count()[1]"
   ]
  },
  {
   "cell_type": "code",
   "execution_count": null,
   "id": "631b6efd",
   "metadata": {},
   "outputs": [],
   "source": [
    "## assign"
   ]
  },
  {
   "cell_type": "code",
   "execution_count": 10,
   "id": "aa800a48",
   "metadata": {},
   "outputs": [],
   "source": [
    "W=pd.read_csv(\"weather_data.csv\")"
   ]
  },
  {
   "cell_type": "code",
   "execution_count": 50,
   "id": "11e9c615",
   "metadata": {},
   "outputs": [
    {
     "data": {
      "text/html": [
       "<div>\n",
       "<style scoped>\n",
       "    .dataframe tbody tr th:only-of-type {\n",
       "        vertical-align: middle;\n",
       "    }\n",
       "\n",
       "    .dataframe tbody tr th {\n",
       "        vertical-align: top;\n",
       "    }\n",
       "\n",
       "    .dataframe thead th {\n",
       "        text-align: right;\n",
       "    }\n",
       "</style>\n",
       "<table border=\"1\" class=\"dataframe\">\n",
       "  <thead>\n",
       "    <tr style=\"text-align: right;\">\n",
       "      <th></th>\n",
       "      <th>Temperature</th>\n",
       "      <th>DewPoint</th>\n",
       "      <th>Pressure</th>\n",
       "      <th>Date_Time</th>\n",
       "    </tr>\n",
       "  </thead>\n",
       "  <tbody>\n",
       "    <tr>\n",
       "      <th>0</th>\n",
       "      <td>46.2</td>\n",
       "      <td>37.5</td>\n",
       "      <td>1</td>\n",
       "      <td>20100101 00:00</td>\n",
       "    </tr>\n",
       "    <tr>\n",
       "      <th>1</th>\n",
       "      <td>44.6</td>\n",
       "      <td>37.1</td>\n",
       "      <td>1</td>\n",
       "      <td>20100101 01:00</td>\n",
       "    </tr>\n",
       "    <tr>\n",
       "      <th>2</th>\n",
       "      <td>44.1</td>\n",
       "      <td>36.9</td>\n",
       "      <td>1</td>\n",
       "      <td>20100101 02:00</td>\n",
       "    </tr>\n",
       "    <tr>\n",
       "      <th>3</th>\n",
       "      <td>43.8</td>\n",
       "      <td>36.9</td>\n",
       "      <td>1</td>\n",
       "      <td>20100101 03:00</td>\n",
       "    </tr>\n",
       "    <tr>\n",
       "      <th>4</th>\n",
       "      <td>43.5</td>\n",
       "      <td>36.8</td>\n",
       "      <td>1</td>\n",
       "      <td>20100101 04:00</td>\n",
       "    </tr>\n",
       "    <tr>\n",
       "      <th>...</th>\n",
       "      <td>...</td>\n",
       "      <td>...</td>\n",
       "      <td>...</td>\n",
       "      <td>...</td>\n",
       "    </tr>\n",
       "    <tr>\n",
       "      <th>8754</th>\n",
       "      <td>51.1</td>\n",
       "      <td>38.1</td>\n",
       "      <td>1</td>\n",
       "      <td>20101231 19:00</td>\n",
       "    </tr>\n",
       "    <tr>\n",
       "      <th>8755</th>\n",
       "      <td>49.0</td>\n",
       "      <td>37.9</td>\n",
       "      <td>1</td>\n",
       "      <td>20101231 20:00</td>\n",
       "    </tr>\n",
       "    <tr>\n",
       "      <th>8756</th>\n",
       "      <td>47.9</td>\n",
       "      <td>37.9</td>\n",
       "      <td>1</td>\n",
       "      <td>20101231 21:00</td>\n",
       "    </tr>\n",
       "    <tr>\n",
       "      <th>8757</th>\n",
       "      <td>46.9</td>\n",
       "      <td>37.9</td>\n",
       "      <td>1</td>\n",
       "      <td>20101231 22:00</td>\n",
       "    </tr>\n",
       "    <tr>\n",
       "      <th>8758</th>\n",
       "      <td>46.2</td>\n",
       "      <td>37.7</td>\n",
       "      <td>1</td>\n",
       "      <td>20101231 23:00</td>\n",
       "    </tr>\n",
       "  </tbody>\n",
       "</table>\n",
       "<p>8759 rows × 4 columns</p>\n",
       "</div>"
      ],
      "text/plain": [
       "      Temperature  DewPoint  Pressure       Date_Time\n",
       "0            46.2      37.5         1  20100101 00:00\n",
       "1            44.6      37.1         1  20100101 01:00\n",
       "2            44.1      36.9         1  20100101 02:00\n",
       "3            43.8      36.9         1  20100101 03:00\n",
       "4            43.5      36.8         1  20100101 04:00\n",
       "...           ...       ...       ...             ...\n",
       "8754         51.1      38.1         1  20101231 19:00\n",
       "8755         49.0      37.9         1  20101231 20:00\n",
       "8756         47.9      37.9         1  20101231 21:00\n",
       "8757         46.9      37.9         1  20101231 22:00\n",
       "8758         46.2      37.7         1  20101231 23:00\n",
       "\n",
       "[8759 rows x 4 columns]"
      ]
     },
     "execution_count": 50,
     "metadata": {},
     "output_type": "execute_result"
    }
   ],
   "source": [
    "W"
   ]
  },
  {
   "cell_type": "code",
   "execution_count": 51,
   "id": "6bb02148",
   "metadata": {},
   "outputs": [
    {
     "data": {
      "text/html": [
       "<div>\n",
       "<style scoped>\n",
       "    .dataframe tbody tr th:only-of-type {\n",
       "        vertical-align: middle;\n",
       "    }\n",
       "\n",
       "    .dataframe tbody tr th {\n",
       "        vertical-align: top;\n",
       "    }\n",
       "\n",
       "    .dataframe thead th {\n",
       "        text-align: right;\n",
       "    }\n",
       "</style>\n",
       "<table border=\"1\" class=\"dataframe\">\n",
       "  <thead>\n",
       "    <tr style=\"text-align: right;\">\n",
       "      <th></th>\n",
       "      <th>Temperature</th>\n",
       "      <th>DewPoint</th>\n",
       "      <th>Pressure</th>\n",
       "      <th>Date_Time</th>\n",
       "    </tr>\n",
       "  </thead>\n",
       "  <tbody>\n",
       "    <tr>\n",
       "      <th>0</th>\n",
       "      <td>46.2</td>\n",
       "      <td>37.5</td>\n",
       "      <td>1</td>\n",
       "      <td>20100101 00:00</td>\n",
       "    </tr>\n",
       "    <tr>\n",
       "      <th>1</th>\n",
       "      <td>44.6</td>\n",
       "      <td>37.1</td>\n",
       "      <td>1</td>\n",
       "      <td>20100101 01:00</td>\n",
       "    </tr>\n",
       "    <tr>\n",
       "      <th>2</th>\n",
       "      <td>44.1</td>\n",
       "      <td>36.9</td>\n",
       "      <td>1</td>\n",
       "      <td>20100101 02:00</td>\n",
       "    </tr>\n",
       "  </tbody>\n",
       "</table>\n",
       "</div>"
      ],
      "text/plain": [
       "   Temperature  DewPoint  Pressure       Date_Time\n",
       "0         46.2      37.5         1  20100101 00:00\n",
       "1         44.6      37.1         1  20100101 01:00\n",
       "2         44.1      36.9         1  20100101 02:00"
      ]
     },
     "execution_count": 51,
     "metadata": {},
     "output_type": "execute_result"
    }
   ],
   "source": [
    "W.head(3)"
   ]
  },
  {
   "cell_type": "code",
   "execution_count": 52,
   "id": "5d64f8f0",
   "metadata": {},
   "outputs": [
    {
     "data": {
      "text/html": [
       "<div>\n",
       "<style scoped>\n",
       "    .dataframe tbody tr th:only-of-type {\n",
       "        vertical-align: middle;\n",
       "    }\n",
       "\n",
       "    .dataframe tbody tr th {\n",
       "        vertical-align: top;\n",
       "    }\n",
       "\n",
       "    .dataframe thead th {\n",
       "        text-align: right;\n",
       "    }\n",
       "</style>\n",
       "<table border=\"1\" class=\"dataframe\">\n",
       "  <thead>\n",
       "    <tr style=\"text-align: right;\">\n",
       "      <th></th>\n",
       "      <th>Temperature</th>\n",
       "      <th>DewPoint</th>\n",
       "      <th>Pressure</th>\n",
       "      <th>Date_Time</th>\n",
       "    </tr>\n",
       "  </thead>\n",
       "  <tbody>\n",
       "    <tr>\n",
       "      <th>8756</th>\n",
       "      <td>47.9</td>\n",
       "      <td>37.9</td>\n",
       "      <td>1</td>\n",
       "      <td>20101231 21:00</td>\n",
       "    </tr>\n",
       "    <tr>\n",
       "      <th>8757</th>\n",
       "      <td>46.9</td>\n",
       "      <td>37.9</td>\n",
       "      <td>1</td>\n",
       "      <td>20101231 22:00</td>\n",
       "    </tr>\n",
       "    <tr>\n",
       "      <th>8758</th>\n",
       "      <td>46.2</td>\n",
       "      <td>37.7</td>\n",
       "      <td>1</td>\n",
       "      <td>20101231 23:00</td>\n",
       "    </tr>\n",
       "  </tbody>\n",
       "</table>\n",
       "</div>"
      ],
      "text/plain": [
       "      Temperature  DewPoint  Pressure       Date_Time\n",
       "8756         47.9      37.9         1  20101231 21:00\n",
       "8757         46.9      37.9         1  20101231 22:00\n",
       "8758         46.2      37.7         1  20101231 23:00"
      ]
     },
     "execution_count": 52,
     "metadata": {},
     "output_type": "execute_result"
    }
   ],
   "source": [
    "W.tail(3)"
   ]
  },
  {
   "cell_type": "code",
   "execution_count": 11,
   "id": "92185f8b",
   "metadata": {},
   "outputs": [
    {
     "data": {
      "text/plain": [
       "Temperature              95.3\n",
       "DewPoint                 72.9\n",
       "Pressure                    1\n",
       "Date_Time      20101231 23:00\n",
       "dtype: object"
      ]
     },
     "execution_count": 11,
     "metadata": {},
     "output_type": "execute_result"
    }
   ],
   "source": [
    "W.max()"
   ]
  },
  {
   "cell_type": "code",
   "execution_count": 12,
   "id": "592cbff4",
   "metadata": {},
   "outputs": [
    {
     "data": {
      "text/plain": [
       "Temperature              41.8\n",
       "DewPoint                 35.3\n",
       "Pressure                    1\n",
       "Date_Time      20100101 00:00\n",
       "dtype: object"
      ]
     },
     "execution_count": 12,
     "metadata": {},
     "output_type": "execute_result"
    }
   ],
   "source": [
    "W.min()"
   ]
  },
  {
   "cell_type": "code",
   "execution_count": 15,
   "id": "6b55465a",
   "metadata": {},
   "outputs": [
    {
     "data": {
      "text/plain": [
       "68.07725767781702"
      ]
     },
     "execution_count": 15,
     "metadata": {},
     "output_type": "execute_result"
    }
   ],
   "source": [
    "W.Temperature.mean()"
   ]
  },
  {
   "cell_type": "code",
   "execution_count": 16,
   "id": "4d6faf41",
   "metadata": {},
   "outputs": [
    {
     "data": {
      "text/plain": [
       "1.0"
      ]
     },
     "execution_count": 16,
     "metadata": {},
     "output_type": "execute_result"
    }
   ],
   "source": [
    "W.Pressure.mean()"
   ]
  },
  {
   "cell_type": "code",
   "execution_count": null,
   "id": "d2551de2",
   "metadata": {},
   "outputs": [],
   "source": []
  }
 ],
 "metadata": {
  "kernelspec": {
   "display_name": "Python 3 (ipykernel)",
   "language": "python",
   "name": "python3"
  },
  "language_info": {
   "codemirror_mode": {
    "name": "ipython",
    "version": 3
   },
   "file_extension": ".py",
   "mimetype": "text/x-python",
   "name": "python",
   "nbconvert_exporter": "python",
   "pygments_lexer": "ipython3",
   "version": "3.9.12"
  }
 },
 "nbformat": 4,
 "nbformat_minor": 5
}

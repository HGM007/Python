{
 "cells": [
  {
   "cell_type": "markdown",
   "id": "4a7aca66",
   "metadata": {},
   "source": [
    "##     numpy prac_1( 5-11-22)\n"
   ]
  },
  {
   "cell_type": "markdown",
   "id": "3b037585",
   "metadata": {},
   "source": [
    "### Himanshu G Marekar\n",
    "### D-41"
   ]
  },
  {
   "cell_type": "code",
   "execution_count": 7,
   "id": "bc21723a",
   "metadata": {},
   "outputs": [
    {
     "name": "stdout",
     "output_type": "stream",
     "text": [
      "Requirement already satisfied: numpy in c:\\users\\student\\anaconda3\\lib\\site-packages (1.21.5)\n",
      "Note: you may need to restart the kernel to use updated packages.\n"
     ]
    }
   ],
   "source": [
    "pip install numpy"
   ]
  },
  {
   "cell_type": "code",
   "execution_count": 1,
   "id": "4548ddf3",
   "metadata": {},
   "outputs": [],
   "source": [
    "import numpy as np"
   ]
  },
  {
   "cell_type": "code",
   "execution_count": 5,
   "id": "eabe2545",
   "metadata": {},
   "outputs": [
    {
     "data": {
      "text/plain": [
       "numpy.ndarray"
      ]
     },
     "execution_count": 5,
     "metadata": {},
     "output_type": "execute_result"
    }
   ],
   "source": [
    "#import numpy as np\n",
    "arr=np.array([1,2,3,4,5])\n",
    "type(arr)"
   ]
  },
  {
   "cell_type": "code",
   "execution_count": 6,
   "id": "32301de1",
   "metadata": {},
   "outputs": [
    {
     "data": {
      "text/plain": [
       "array([1, 2, 3, 4, 5])"
      ]
     },
     "execution_count": 6,
     "metadata": {},
     "output_type": "execute_result"
    }
   ],
   "source": [
    "arr"
   ]
  },
  {
   "cell_type": "code",
   "execution_count": 8,
   "id": "04fc07ab",
   "metadata": {},
   "outputs": [
    {
     "data": {
      "text/plain": [
       "[100, 200, 300, 50, 50, 50, 400, 500, 600]"
      ]
     },
     "execution_count": 8,
     "metadata": {},
     "output_type": "execute_result"
    }
   ],
   "source": [
    "a=[100,200,300]\n",
    "b=[400,500,600]\n",
    "c=[50,50,50]\n",
    "\n",
    "a+c+b"
   ]
  },
  {
   "cell_type": "code",
   "execution_count": 9,
   "id": "bdb1a7e3",
   "metadata": {},
   "outputs": [
    {
     "name": "stdout",
     "output_type": "stream",
     "text": [
      "[100 200 300] [400 500 600] [50 50 50]\n"
     ]
    }
   ],
   "source": [
    "np_arr1=np.array(a)\n",
    "np_arr2=np.array(b)\n",
    "np_arr3=np.array(c)\n",
    "print(np_arr1,np_arr2,np_arr3)"
   ]
  },
  {
   "cell_type": "code",
   "execution_count": 10,
   "id": "b4c93c8a",
   "metadata": {},
   "outputs": [
    {
     "name": "stdout",
     "output_type": "stream",
     "text": [
      "[550 750 950]\n"
     ]
    }
   ],
   "source": [
    "print(np_arr1+np_arr2+np_arr3)"
   ]
  },
  {
   "cell_type": "code",
   "execution_count": 11,
   "id": "ac7690ed",
   "metadata": {},
   "outputs": [
    {
     "data": {
      "text/plain": [
       "array([1100, 1200, 1300])"
      ]
     },
     "execution_count": 11,
     "metadata": {},
     "output_type": "execute_result"
    }
   ],
   "source": [
    "np_arr1+1000"
   ]
  },
  {
   "cell_type": "code",
   "execution_count": 12,
   "id": "79e08a9c",
   "metadata": {},
   "outputs": [
    {
     "data": {
      "text/plain": [
       "array([200, 300])"
      ]
     },
     "execution_count": 12,
     "metadata": {},
     "output_type": "execute_result"
    }
   ],
   "source": [
    "np_arr1[np_arr1 >100]"
   ]
  },
  {
   "cell_type": "code",
   "execution_count": 13,
   "id": "ba8718e7",
   "metadata": {},
   "outputs": [
    {
     "name": "stdout",
     "output_type": "stream",
     "text": [
      "[False  True  True]\n"
     ]
    }
   ],
   "source": [
    "print(np_arr1>100)"
   ]
  },
  {
   "cell_type": "markdown",
   "id": "e0d18e16",
   "metadata": {},
   "source": [
    "### numpy arr using tuple and list"
   ]
  },
  {
   "cell_type": "code",
   "execution_count": 14,
   "id": "6dd52090",
   "metadata": {},
   "outputs": [
    {
     "name": "stdout",
     "output_type": "stream",
     "text": [
      "[1 2 3 4 5]\n",
      "<class 'numpy.ndarray'>\n"
     ]
    }
   ],
   "source": [
    "a=[1,2,3,4,5]\n",
    "arr=np.array(a)\n",
    "print(arr)\n",
    "print(type(arr))"
   ]
  },
  {
   "cell_type": "code",
   "execution_count": 15,
   "id": "0df37046",
   "metadata": {},
   "outputs": [
    {
     "name": "stdout",
     "output_type": "stream",
     "text": [
      "<class 'numpy.ndarray'>\n"
     ]
    },
    {
     "data": {
      "text/plain": [
       "tuple"
      ]
     },
     "execution_count": 15,
     "metadata": {},
     "output_type": "execute_result"
    }
   ],
   "source": [
    "a=(1,2,3,4,5)\n",
    "arr=np.array(a)\n",
    "print(type(arr))\n",
    "type(a)"
   ]
  },
  {
   "cell_type": "code",
   "execution_count": 29,
   "id": "51591269",
   "metadata": {},
   "outputs": [
    {
     "name": "stdout",
     "output_type": "stream",
     "text": [
      "[[[ 1  2  3]\n",
      "  [ 4  5  6]]\n",
      "\n",
      " [[ 7  6  8]\n",
      "  [12 11 23]]]\n",
      "<class 'numpy.ndarray'>\n",
      "3\n"
     ]
    }
   ],
   "source": [
    "x=[[[1,2,3],[4,5,6]],[[7,6,8],[12,11,23]]]\n",
    "a = np.array(x)\n",
    "print(a) \n",
    "print(type(arr)) \n",
    "print(a.ndim)\n",
    "#print(arr[0:3,0])"
   ]
  },
  {
   "cell_type": "code",
   "execution_count": 20,
   "id": "07a5c40d",
   "metadata": {},
   "outputs": [
    {
     "data": {
      "text/plain": [
       "array([[ 7,  6,  8],\n",
       "       [12, 11, 23]])"
      ]
     },
     "execution_count": 20,
     "metadata": {},
     "output_type": "execute_result"
    }
   ],
   "source": [
    "a[-1]"
   ]
  },
  {
   "cell_type": "code",
   "execution_count": 24,
   "id": "c609b526",
   "metadata": {},
   "outputs": [
    {
     "name": "stdout",
     "output_type": "stream",
     "text": [
      "2\n"
     ]
    },
    {
     "data": {
      "text/plain": [
       "array([[ 4,  5,  6],\n",
       "       [12, 11, 23]])"
      ]
     },
     "execution_count": 24,
     "metadata": {},
     "output_type": "execute_result"
    }
   ],
   "source": [
    "print(a[-2].ndim)\n",
    "a[0:2,1]"
   ]
  },
  {
   "cell_type": "markdown",
   "id": "84c1a4bc",
   "metadata": {},
   "source": [
    "### higher dim"
   ]
  },
  {
   "cell_type": "code",
   "execution_count": 31,
   "id": "a8cbbbdc",
   "metadata": {},
   "outputs": [],
   "source": [
    "arr=np.array([[1,2,3],[4,5,6],[7,8,9],[11,12,13]])"
   ]
  },
  {
   "cell_type": "code",
   "execution_count": 36,
   "id": "5123e56e",
   "metadata": {},
   "outputs": [
    {
     "name": "stdout",
     "output_type": "stream",
     "text": [
      "[8]\n",
      "[[1 2 3]\n",
      " [4 5 6]\n",
      " [7 8 9]]\n"
     ]
    }
   ],
   "source": [
    "print(arr[2,1:-1])\n",
    "print(arr[:3])"
   ]
  },
  {
   "cell_type": "code",
   "execution_count": 38,
   "id": "ddbe0b41",
   "metadata": {},
   "outputs": [
    {
     "name": "stdout",
     "output_type": "stream",
     "text": [
      "1\n",
      "2\n",
      "3\n",
      "4\n",
      "5\n",
      "6\n",
      "7\n",
      "8\n",
      "9\n",
      "10\n",
      "11\n",
      "12\n"
     ]
    }
   ],
   "source": [
    "arr = np.array([[[1,2,3],[4,5,6]],[[7,8,9],[10,11,12]]])\n",
    "#arr.ndim\n",
    "for x in arr:\n",
    "    for y in x:\n",
    "        for z in y:\n",
    "            print(z)"
   ]
  },
  {
   "cell_type": "code",
   "execution_count": 39,
   "id": "5fd57da3",
   "metadata": {},
   "outputs": [
    {
     "name": "stdout",
     "output_type": "stream",
     "text": [
      "1\n",
      "2\n",
      "3\n",
      "4\n",
      "5\n",
      "6\n",
      "7\n",
      "8\n",
      "9\n",
      "10\n",
      "11\n",
      "12\n"
     ]
    }
   ],
   "source": [
    "for x in np.nditer(arr):\n",
    "    print(x)"
   ]
  },
  {
   "cell_type": "code",
   "execution_count": 41,
   "id": "da637c4d",
   "metadata": {},
   "outputs": [
    {
     "data": {
      "text/plain": [
       "array([[ 3,  1,  4],\n",
       "       [ 4, 10,  4]])"
      ]
     },
     "execution_count": 41,
     "metadata": {},
     "output_type": "execute_result"
    }
   ],
   "source": [
    "arr1 = np.array([[1,1,1],[2,2,2]])\n",
    "arr2 = np.array([[3,1,4],[2,5,2]])\n",
    "arr1*arr2"
   ]
  },
  {
   "cell_type": "markdown",
   "id": "4918c698",
   "metadata": {},
   "source": [
    "### numpy joining array"
   ]
  },
  {
   "cell_type": "code",
   "execution_count": 4,
   "id": "49befdd8",
   "metadata": {},
   "outputs": [
    {
     "name": "stdout",
     "output_type": "stream",
     "text": [
      "[1 2 3 4 5 6] 1\n"
     ]
    },
    {
     "data": {
      "text/plain": [
       "6"
      ]
     },
     "execution_count": 4,
     "metadata": {},
     "output_type": "execute_result"
    }
   ],
   "source": [
    "a1=np.array([1,2,3])\n",
    "a2=np.array([4,5,6])\n",
    "arr=np.concatenate((a1,a2))\n",
    "print(arr,arr.ndim)\n",
    "len(arr)"
   ]
  },
  {
   "cell_type": "code",
   "execution_count": 6,
   "id": "5e8563ff",
   "metadata": {},
   "outputs": [
    {
     "name": "stdout",
     "output_type": "stream",
     "text": [
      "[[1 2 3 4 5 6]\n",
      " [7 8 9 5 1 2]] 2\n"
     ]
    }
   ],
   "source": [
    "a1=np.array([[1,2,3],[7,8,9]])\n",
    "a2=np.array([[4,5,6],[5,1,2]])\n",
    "arr=np.concatenate((a1,a2),axis=1) #colm combine\n",
    "print(arr,arr.ndim)"
   ]
  },
  {
   "cell_type": "code",
   "execution_count": 7,
   "id": "407c054f",
   "metadata": {},
   "outputs": [
    {
     "name": "stdout",
     "output_type": "stream",
     "text": [
      "[[1 2 3]\n",
      " [7 8 9]\n",
      " [4 5 6]\n",
      " [5 1 2]] 2\n"
     ]
    }
   ],
   "source": [
    "arr=np.concatenate((a1,a2),axis=0) #row\n",
    "print(arr,arr.ndim)"
   ]
  },
  {
   "cell_type": "markdown",
   "id": "491ad80d",
   "metadata": {},
   "source": [
    "### stack() func"
   ]
  },
  {
   "cell_type": "code",
   "execution_count": 14,
   "id": "765be970",
   "metadata": {},
   "outputs": [
    {
     "name": "stdout",
     "output_type": "stream",
     "text": [
      "[1 2 3 4 5 6]\n",
      "[[1 2 3]\n",
      " [4 5 6]]\n",
      "[[[1 4]\n",
      "  [2 5]\n",
      "  [3 6]]] 3\n"
     ]
    }
   ],
   "source": [
    "a1=np.array([1,2,3])\n",
    "a2=np.array([4,5,6])\n",
    "arr=np.hstack((a1,a2)) #h fr hori\n",
    "arr1=np.vstack((a1,a2))#v fr verti\n",
    "arr2=np.dstack((a1,a2)) # d fr dim  index stack\n",
    "print(arr)\n",
    "print(arr1)\n",
    "print(arr2,arr2.ndim)"
   ]
  },
  {
   "cell_type": "markdown",
   "id": "5c139e27",
   "metadata": {},
   "source": [
    "### numpy split data"
   ]
  },
  {
   "cell_type": "code",
   "execution_count": 27,
   "id": "91601d4b",
   "metadata": {},
   "outputs": [
    {
     "name": "stdout",
     "output_type": "stream",
     "text": [
      "[array([[1, 2, 3],\n",
      "       [4, 5, 6]]), array([[8, 9, 1]])]\n"
     ]
    }
   ],
   "source": [
    "arr=np.array([[1,2,3],[4,5,6],[8,9,1]])\n",
    "narr=np.array_split(arr,2)  \n",
    "print(narr)\n"
   ]
  },
  {
   "cell_type": "code",
   "execution_count": 25,
   "id": "1a8b9124",
   "metadata": {},
   "outputs": [
    {
     "name": "stdout",
     "output_type": "stream",
     "text": [
      "[array([[1],\n",
      "       [4],\n",
      "       [8],\n",
      "       [2],\n",
      "       [5]]), array([[2],\n",
      "       [5],\n",
      "       [9],\n",
      "       [3],\n",
      "       [3]]), array([[3],\n",
      "       [6],\n",
      "       [1],\n",
      "       [4],\n",
      "       [2]])]\n"
     ]
    }
   ],
   "source": [
    "arr=np.array([[1,2,3],[4,5,6],[8,9,1],[2,3,4],[5,3,2]])\n",
    "narr=np.array_split(arr,3,axis=1)  \n",
    "print(narr)"
   ]
  },
  {
   "cell_type": "markdown",
   "id": "0d2ecc21",
   "metadata": {},
   "source": [
    "### searching arr"
   ]
  },
  {
   "cell_type": "code",
   "execution_count": 28,
   "id": "3b733b9e",
   "metadata": {},
   "outputs": [
    {
     "name": "stdout",
     "output_type": "stream",
     "text": [
      "(array([3, 4, 5, 6, 7], dtype=int64),)\n"
     ]
    }
   ],
   "source": [
    "arr=np.array([1,2,3,4,5,6,8,9,1])\n",
    "a=np.where(arr>3) #index posn\n",
    "print(a)"
   ]
  },
  {
   "cell_type": "code",
   "execution_count": 29,
   "id": "db013864",
   "metadata": {},
   "outputs": [
    {
     "name": "stdout",
     "output_type": "stream",
     "text": [
      "(array([1, 3, 5, 6], dtype=int64),)\n"
     ]
    }
   ],
   "source": [
    "arr=np.array([1,2,3,4,5,6,8,9,1])\n",
    "a=np.where(arr%2==0) \n",
    "print(a)"
   ]
  },
  {
   "cell_type": "markdown",
   "id": "e6bc561c",
   "metadata": {},
   "source": [
    "###sort"
   ]
  },
  {
   "cell_type": "code",
   "execution_count": 30,
   "id": "5bc3e5a5",
   "metadata": {},
   "outputs": [
    {
     "name": "stdout",
     "output_type": "stream",
     "text": [
      "[1 1 2 3 4 5 6 8 9]\n"
     ]
    }
   ],
   "source": [
    "arr=np.array([1,2,3,4,5,6,8,9,1])\n",
    "a=np.sort(arr) \n",
    "print(a)"
   ]
  },
  {
   "cell_type": "code",
   "execution_count": 32,
   "id": "3aae15df",
   "metadata": {},
   "outputs": [
    {
     "name": "stdout",
     "output_type": "stream",
     "text": [
      "['cr' 'ggs' 'ggwp' 'xdd']\n"
     ]
    }
   ],
   "source": [
    "arr=np.array(['cr','ggs','xdd','ggwp'])\n",
    "a=np.sort(arr) \n",
    "print(a)"
   ]
  },
  {
   "cell_type": "code",
   "execution_count": 38,
   "id": "592ee0e5",
   "metadata": {},
   "outputs": [
    {
     "name": "stdout",
     "output_type": "stream",
     "text": [
      "[[1 2 3]\n",
      " [4 5 6]\n",
      " [1 8 9]]\n"
     ]
    }
   ],
   "source": [
    "arr=np.array([[1,3,2],[5,4,6],[8,9,1]]) #sort ind arr\n",
    "a=np.sort(arr)                           #(arr size should be same)\n",
    "print(a)"
   ]
  },
  {
   "cell_type": "markdown",
   "id": "7e9dc0ee",
   "metadata": {},
   "source": [
    "### filter arr"
   ]
  },
  {
   "cell_type": "code",
   "execution_count": 40,
   "id": "a91ac960",
   "metadata": {},
   "outputs": [
    {
     "name": "stdout",
     "output_type": "stream",
     "text": [
      "[41 43 42]\n",
      "[44 43 42]\n"
     ]
    }
   ],
   "source": [
    "arr=np.array([41,44,43,42])\n",
    "x=[True,False,True,True]\n",
    "nearr=arr[arr>41]\n",
    "narr=arr[x]\n",
    "print(narr)\n",
    "print(nearr)"
   ]
  },
  {
   "cell_type": "code",
   "execution_count": null,
   "id": "a1db084f",
   "metadata": {},
   "outputs": [],
   "source": [
    "#self\n",
    "arr=[]\n",
    "n=int(input(\"etr n\\n : \"))\n",
    "for i in range(0,n):\n",
    "    elem=int(input())\n",
    "    arr.append(elem)\n",
    "print(arr)\n",
    "# arr=arr[arr%2==0]\n",
    "# arr"
   ]
  },
  {
   "cell_type": "code",
   "execution_count": 46,
   "id": "04ea3fc9",
   "metadata": {},
   "outputs": [
    {
     "name": "stdout",
     "output_type": "stream",
     "text": [
      "[False, True, False, True, False, True, False]\n"
     ]
    },
    {
     "data": {
      "text/plain": [
       "array([2, 4, 6])"
      ]
     },
     "execution_count": 46,
     "metadata": {},
     "output_type": "execute_result"
    }
   ],
   "source": [
    "arr=np.array([1,2,3,4,5,6,7])\n",
    "flt_lst=[]\n",
    "for elem in arr:\n",
    "    if elem %2==0:\n",
    "        flt_lst.append(True)\n",
    "    else:\n",
    "        flt_lst.append(False)\n",
    "print(flt_lst)\n",
    "narr=arr[flt_lst]\n",
    "narr"
   ]
  },
  {
   "cell_type": "markdown",
   "id": "afc419b8",
   "metadata": {},
   "source": [
    "#### matrix multi by numpy 2-D"
   ]
  },
  {
   "cell_type": "code",
   "execution_count": 1,
   "id": "e659f382",
   "metadata": {},
   "outputs": [
    {
     "name": "stdout",
     "output_type": "stream",
     "text": [
      "[[ 63 320  83]\n",
      " [ 77 484 102]\n",
      " [ 84 248 117]]\n"
     ]
    }
   ],
   "source": [
    "#matrix multiplication\n",
    "\n",
    "\"\"\"\n",
    "import numpy as np\n",
    "\n",
    "\n",
    "mat1 = ([1, 6, 5],[3 ,4, 8],[2, 12, 3])\n",
    "mat2 = ([3, 4, 6],[5, 6, 7],[6,56, 7])\n",
    "res = mat1 @ mat2\n",
    "print(res)\n",
    "\"\"\"\n",
    "\n",
    "# We need install numpy in order to import it\n",
    "import numpy as np\n",
    "\n",
    "# input two matrices\n",
    "mat1 = ([1, 6, 5],[3 ,4, 8],[2, 12, 3])\n",
    "mat2 = ([3, 4, 6],[5, 6, 7],[6,56, 7])\n",
    "\n",
    "# This will return dot product\n",
    "res = np.dot(mat1,mat2)\n",
    "\n",
    "\n",
    "# print resulted matrix\n",
    "print(res)\n"
   ]
  },
  {
   "cell_type": "code",
   "execution_count": null,
   "id": "560a9e4f",
   "metadata": {},
   "outputs": [],
   "source": []
  }
 ],
 "metadata": {
  "kernelspec": {
   "display_name": "Python 3 (ipykernel)",
   "language": "python",
   "name": "python3"
  },
  "language_info": {
   "codemirror_mode": {
    "name": "ipython",
    "version": 3
   },
   "file_extension": ".py",
   "mimetype": "text/x-python",
   "name": "python",
   "nbconvert_exporter": "python",
   "pygments_lexer": "ipython3",
   "version": "3.9.12"
  }
 },
 "nbformat": 4,
 "nbformat_minor": 5
}

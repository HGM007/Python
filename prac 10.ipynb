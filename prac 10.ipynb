{
 "cells": [
  {
   "cell_type": "markdown",
   "id": "95fd1c45",
   "metadata": {},
   "source": [
    "# Himanshu G Marekar   DS-41\n"
   ]
  },
  {
   "cell_type": "code",
   "execution_count": 2,
   "id": "e197d80f",
   "metadata": {},
   "outputs": [],
   "source": [
    "import pandas as pd\n",
    "import seaborn as sns\n",
    "import numpy as np\n",
    "import matplotlib.pyplot as plt"
   ]
  },
  {
   "cell_type": "code",
   "execution_count": 3,
   "id": "05e900ff",
   "metadata": {},
   "outputs": [],
   "source": [
    "import warnings\n",
    "warnings.filterwarnings('ignore')"
   ]
  },
  {
   "cell_type": "code",
   "execution_count": null,
   "id": "4f89e75d",
   "metadata": {},
   "outputs": [],
   "source": [
    "data = pd.read_csv(\" Superstore.csv\")\n"
   ]
  },
  {
   "cell_type": "markdown",
   "id": "c03ab34d",
   "metadata": {},
   "source": [
    "<h2> Manipulation + Preprocessing <h2>"
   ]
  },
  {
   "cell_type": "code",
   "execution_count": 19,
   "id": "84864d5f",
   "metadata": {},
   "outputs": [
    {
     "data": {
      "text/html": [
       "<div>\n",
       "<style scoped>\n",
       "    .dataframe tbody tr th:only-of-type {\n",
       "        vertical-align: middle;\n",
       "    }\n",
       "\n",
       "    .dataframe tbody tr th {\n",
       "        vertical-align: top;\n",
       "    }\n",
       "\n",
       "    .dataframe thead th {\n",
       "        text-align: right;\n",
       "    }\n",
       "</style>\n",
       "<table border=\"1\" class=\"dataframe\">\n",
       "  <thead>\n",
       "    <tr style=\"text-align: right;\">\n",
       "      <th></th>\n",
       "      <th>Row ID</th>\n",
       "      <th>Order ID</th>\n",
       "      <th>Order Date</th>\n",
       "      <th>Ship Date</th>\n",
       "      <th>Ship Mode</th>\n",
       "      <th>Customer ID</th>\n",
       "      <th>Customer Name</th>\n",
       "      <th>Segment</th>\n",
       "      <th>Country</th>\n",
       "      <th>City</th>\n",
       "      <th>...</th>\n",
       "      <th>Postal Code</th>\n",
       "      <th>Region</th>\n",
       "      <th>Product ID</th>\n",
       "      <th>Category</th>\n",
       "      <th>Sub-Category</th>\n",
       "      <th>Product Name</th>\n",
       "      <th>Sales</th>\n",
       "      <th>Quantity</th>\n",
       "      <th>Discount</th>\n",
       "      <th>Profit</th>\n",
       "    </tr>\n",
       "  </thead>\n",
       "  <tbody>\n",
       "    <tr>\n",
       "      <th>0</th>\n",
       "      <td>1</td>\n",
       "      <td>CA-2016-152156</td>\n",
       "      <td>2016-11-08</td>\n",
       "      <td>2016-11-11</td>\n",
       "      <td>Second Class</td>\n",
       "      <td>CG-12520</td>\n",
       "      <td>Claire Gute</td>\n",
       "      <td>Consumer</td>\n",
       "      <td>United States</td>\n",
       "      <td>Henderson</td>\n",
       "      <td>...</td>\n",
       "      <td>42420</td>\n",
       "      <td>South</td>\n",
       "      <td>FUR-BO-10001798</td>\n",
       "      <td>Furniture</td>\n",
       "      <td>Bookcases</td>\n",
       "      <td>Bush Somerset Collection Bookcase</td>\n",
       "      <td>261.9600</td>\n",
       "      <td>2</td>\n",
       "      <td>0.00</td>\n",
       "      <td>41.9136</td>\n",
       "    </tr>\n",
       "    <tr>\n",
       "      <th>1</th>\n",
       "      <td>2</td>\n",
       "      <td>CA-2016-152156</td>\n",
       "      <td>2016-11-08</td>\n",
       "      <td>2016-11-11</td>\n",
       "      <td>Second Class</td>\n",
       "      <td>CG-12520</td>\n",
       "      <td>Claire Gute</td>\n",
       "      <td>Consumer</td>\n",
       "      <td>United States</td>\n",
       "      <td>Henderson</td>\n",
       "      <td>...</td>\n",
       "      <td>42420</td>\n",
       "      <td>South</td>\n",
       "      <td>FUR-CH-10000454</td>\n",
       "      <td>Furniture</td>\n",
       "      <td>Chairs</td>\n",
       "      <td>Hon Deluxe Fabric Upholstered Stacking Chairs,...</td>\n",
       "      <td>731.9400</td>\n",
       "      <td>3</td>\n",
       "      <td>0.00</td>\n",
       "      <td>219.5820</td>\n",
       "    </tr>\n",
       "    <tr>\n",
       "      <th>2</th>\n",
       "      <td>3</td>\n",
       "      <td>CA-2016-138688</td>\n",
       "      <td>2016-06-12</td>\n",
       "      <td>2016-06-16</td>\n",
       "      <td>Second Class</td>\n",
       "      <td>DV-13045</td>\n",
       "      <td>Darrin Van Huff</td>\n",
       "      <td>Corporate</td>\n",
       "      <td>United States</td>\n",
       "      <td>Los Angeles</td>\n",
       "      <td>...</td>\n",
       "      <td>90036</td>\n",
       "      <td>West</td>\n",
       "      <td>OFF-LA-10000240</td>\n",
       "      <td>Office Supplies</td>\n",
       "      <td>Labels</td>\n",
       "      <td>Self-Adhesive Address Labels for Typewriters b...</td>\n",
       "      <td>14.6200</td>\n",
       "      <td>2</td>\n",
       "      <td>0.00</td>\n",
       "      <td>6.8714</td>\n",
       "    </tr>\n",
       "    <tr>\n",
       "      <th>3</th>\n",
       "      <td>4</td>\n",
       "      <td>US-2015-108966</td>\n",
       "      <td>2015-10-11</td>\n",
       "      <td>2015-10-18</td>\n",
       "      <td>Standard Class</td>\n",
       "      <td>SO-20335</td>\n",
       "      <td>Sean O'Donnell</td>\n",
       "      <td>Consumer</td>\n",
       "      <td>United States</td>\n",
       "      <td>Fort Lauderdale</td>\n",
       "      <td>...</td>\n",
       "      <td>33311</td>\n",
       "      <td>South</td>\n",
       "      <td>FUR-TA-10000577</td>\n",
       "      <td>Furniture</td>\n",
       "      <td>Tables</td>\n",
       "      <td>Bretford CR4500 Series Slim Rectangular Table</td>\n",
       "      <td>957.5775</td>\n",
       "      <td>5</td>\n",
       "      <td>0.45</td>\n",
       "      <td>-383.0310</td>\n",
       "    </tr>\n",
       "    <tr>\n",
       "      <th>4</th>\n",
       "      <td>5</td>\n",
       "      <td>US-2015-108966</td>\n",
       "      <td>2015-10-11</td>\n",
       "      <td>2015-10-18</td>\n",
       "      <td>Standard Class</td>\n",
       "      <td>SO-20335</td>\n",
       "      <td>Sean O'Donnell</td>\n",
       "      <td>Consumer</td>\n",
       "      <td>United States</td>\n",
       "      <td>Fort Lauderdale</td>\n",
       "      <td>...</td>\n",
       "      <td>33311</td>\n",
       "      <td>South</td>\n",
       "      <td>OFF-ST-10000760</td>\n",
       "      <td>Office Supplies</td>\n",
       "      <td>Storage</td>\n",
       "      <td>Eldon Fold 'N Roll Cart System</td>\n",
       "      <td>22.3680</td>\n",
       "      <td>2</td>\n",
       "      <td>0.20</td>\n",
       "      <td>2.5164</td>\n",
       "    </tr>\n",
       "    <tr>\n",
       "      <th>...</th>\n",
       "      <td>...</td>\n",
       "      <td>...</td>\n",
       "      <td>...</td>\n",
       "      <td>...</td>\n",
       "      <td>...</td>\n",
       "      <td>...</td>\n",
       "      <td>...</td>\n",
       "      <td>...</td>\n",
       "      <td>...</td>\n",
       "      <td>...</td>\n",
       "      <td>...</td>\n",
       "      <td>...</td>\n",
       "      <td>...</td>\n",
       "      <td>...</td>\n",
       "      <td>...</td>\n",
       "      <td>...</td>\n",
       "      <td>...</td>\n",
       "      <td>...</td>\n",
       "      <td>...</td>\n",
       "      <td>...</td>\n",
       "      <td>...</td>\n",
       "    </tr>\n",
       "    <tr>\n",
       "      <th>995</th>\n",
       "      <td>996</td>\n",
       "      <td>CA-2014-117639</td>\n",
       "      <td>2014-05-21</td>\n",
       "      <td>2014-05-25</td>\n",
       "      <td>Standard Class</td>\n",
       "      <td>MW-18235</td>\n",
       "      <td>Mitch Willingham</td>\n",
       "      <td>Corporate</td>\n",
       "      <td>United States</td>\n",
       "      <td>Virginia Beach</td>\n",
       "      <td>...</td>\n",
       "      <td>23464</td>\n",
       "      <td>South</td>\n",
       "      <td>TEC-PH-10001530</td>\n",
       "      <td>Technology</td>\n",
       "      <td>Phones</td>\n",
       "      <td>Plantronics Voyager Pro Legend</td>\n",
       "      <td>617.9700</td>\n",
       "      <td>3</td>\n",
       "      <td>0.00</td>\n",
       "      <td>173.0316</td>\n",
       "    </tr>\n",
       "    <tr>\n",
       "      <th>996</th>\n",
       "      <td>997</td>\n",
       "      <td>CA-2015-162537</td>\n",
       "      <td>2015-10-28</td>\n",
       "      <td>2015-11-03</td>\n",
       "      <td>Standard Class</td>\n",
       "      <td>RD-19585</td>\n",
       "      <td>Rob Dowd</td>\n",
       "      <td>Consumer</td>\n",
       "      <td>United States</td>\n",
       "      <td>Henderson</td>\n",
       "      <td>...</td>\n",
       "      <td>42420</td>\n",
       "      <td>South</td>\n",
       "      <td>OFF-EN-10003862</td>\n",
       "      <td>Office Supplies</td>\n",
       "      <td>Envelopes</td>\n",
       "      <td>Laser &amp; Ink Jet Business Envelopes</td>\n",
       "      <td>10.6700</td>\n",
       "      <td>1</td>\n",
       "      <td>0.00</td>\n",
       "      <td>4.9082</td>\n",
       "    </tr>\n",
       "    <tr>\n",
       "      <th>997</th>\n",
       "      <td>998</td>\n",
       "      <td>CA-2015-162537</td>\n",
       "      <td>2015-10-28</td>\n",
       "      <td>2015-11-03</td>\n",
       "      <td>Standard Class</td>\n",
       "      <td>RD-19585</td>\n",
       "      <td>Rob Dowd</td>\n",
       "      <td>Consumer</td>\n",
       "      <td>United States</td>\n",
       "      <td>Henderson</td>\n",
       "      <td>...</td>\n",
       "      <td>42420</td>\n",
       "      <td>South</td>\n",
       "      <td>OFF-ST-10004258</td>\n",
       "      <td>Office Supplies</td>\n",
       "      <td>Storage</td>\n",
       "      <td>Portable Personal File Box</td>\n",
       "      <td>36.6300</td>\n",
       "      <td>3</td>\n",
       "      <td>0.00</td>\n",
       "      <td>9.8901</td>\n",
       "    </tr>\n",
       "    <tr>\n",
       "      <th>998</th>\n",
       "      <td>999</td>\n",
       "      <td>CA-2015-162537</td>\n",
       "      <td>2015-10-28</td>\n",
       "      <td>2015-11-03</td>\n",
       "      <td>Standard Class</td>\n",
       "      <td>RD-19585</td>\n",
       "      <td>Rob Dowd</td>\n",
       "      <td>Consumer</td>\n",
       "      <td>United States</td>\n",
       "      <td>Henderson</td>\n",
       "      <td>...</td>\n",
       "      <td>42420</td>\n",
       "      <td>South</td>\n",
       "      <td>FUR-FU-10002885</td>\n",
       "      <td>Furniture</td>\n",
       "      <td>Furnishings</td>\n",
       "      <td>Magna Visual Magnetic Picture Hangers</td>\n",
       "      <td>24.1000</td>\n",
       "      <td>5</td>\n",
       "      <td>0.00</td>\n",
       "      <td>9.1580</td>\n",
       "    </tr>\n",
       "    <tr>\n",
       "      <th>999</th>\n",
       "      <td>1000</td>\n",
       "      <td>CA-2015-162537</td>\n",
       "      <td>2015-10-28</td>\n",
       "      <td>2015-11-03</td>\n",
       "      <td>Standard Class</td>\n",
       "      <td>RD-19585</td>\n",
       "      <td>Rob Dowd</td>\n",
       "      <td>Consumer</td>\n",
       "      <td>United States</td>\n",
       "      <td>Henderson</td>\n",
       "      <td>...</td>\n",
       "      <td>42420</td>\n",
       "      <td>South</td>\n",
       "      <td>FUR-FU-10001918</td>\n",
       "      <td>Furniture</td>\n",
       "      <td>Furnishings</td>\n",
       "      <td>C-Line Cubicle Keepers Polyproplyene Holder Wi...</td>\n",
       "      <td>33.1100</td>\n",
       "      <td>7</td>\n",
       "      <td>0.00</td>\n",
       "      <td>12.9129</td>\n",
       "    </tr>\n",
       "  </tbody>\n",
       "</table>\n",
       "<p>1000 rows × 21 columns</p>\n",
       "</div>"
      ],
      "text/plain": [
       "     Row ID        Order ID Order Date  Ship Date       Ship Mode Customer ID  \\\n",
       "0         1  CA-2016-152156 2016-11-08 2016-11-11    Second Class    CG-12520   \n",
       "1         2  CA-2016-152156 2016-11-08 2016-11-11    Second Class    CG-12520   \n",
       "2         3  CA-2016-138688 2016-06-12 2016-06-16    Second Class    DV-13045   \n",
       "3         4  US-2015-108966 2015-10-11 2015-10-18  Standard Class    SO-20335   \n",
       "4         5  US-2015-108966 2015-10-11 2015-10-18  Standard Class    SO-20335   \n",
       "..      ...             ...        ...        ...             ...         ...   \n",
       "995     996  CA-2014-117639 2014-05-21 2014-05-25  Standard Class    MW-18235   \n",
       "996     997  CA-2015-162537 2015-10-28 2015-11-03  Standard Class    RD-19585   \n",
       "997     998  CA-2015-162537 2015-10-28 2015-11-03  Standard Class    RD-19585   \n",
       "998     999  CA-2015-162537 2015-10-28 2015-11-03  Standard Class    RD-19585   \n",
       "999    1000  CA-2015-162537 2015-10-28 2015-11-03  Standard Class    RD-19585   \n",
       "\n",
       "        Customer Name    Segment        Country             City  ...  \\\n",
       "0         Claire Gute   Consumer  United States        Henderson  ...   \n",
       "1         Claire Gute   Consumer  United States        Henderson  ...   \n",
       "2     Darrin Van Huff  Corporate  United States      Los Angeles  ...   \n",
       "3      Sean O'Donnell   Consumer  United States  Fort Lauderdale  ...   \n",
       "4      Sean O'Donnell   Consumer  United States  Fort Lauderdale  ...   \n",
       "..                ...        ...            ...              ...  ...   \n",
       "995  Mitch Willingham  Corporate  United States   Virginia Beach  ...   \n",
       "996          Rob Dowd   Consumer  United States        Henderson  ...   \n",
       "997          Rob Dowd   Consumer  United States        Henderson  ...   \n",
       "998          Rob Dowd   Consumer  United States        Henderson  ...   \n",
       "999          Rob Dowd   Consumer  United States        Henderson  ...   \n",
       "\n",
       "    Postal Code  Region       Product ID         Category Sub-Category  \\\n",
       "0         42420   South  FUR-BO-10001798        Furniture    Bookcases   \n",
       "1         42420   South  FUR-CH-10000454        Furniture       Chairs   \n",
       "2         90036    West  OFF-LA-10000240  Office Supplies       Labels   \n",
       "3         33311   South  FUR-TA-10000577        Furniture       Tables   \n",
       "4         33311   South  OFF-ST-10000760  Office Supplies      Storage   \n",
       "..          ...     ...              ...              ...          ...   \n",
       "995       23464   South  TEC-PH-10001530       Technology       Phones   \n",
       "996       42420   South  OFF-EN-10003862  Office Supplies    Envelopes   \n",
       "997       42420   South  OFF-ST-10004258  Office Supplies      Storage   \n",
       "998       42420   South  FUR-FU-10002885        Furniture  Furnishings   \n",
       "999       42420   South  FUR-FU-10001918        Furniture  Furnishings   \n",
       "\n",
       "                                          Product Name     Sales  Quantity  \\\n",
       "0                    Bush Somerset Collection Bookcase  261.9600         2   \n",
       "1    Hon Deluxe Fabric Upholstered Stacking Chairs,...  731.9400         3   \n",
       "2    Self-Adhesive Address Labels for Typewriters b...   14.6200         2   \n",
       "3        Bretford CR4500 Series Slim Rectangular Table  957.5775         5   \n",
       "4                       Eldon Fold 'N Roll Cart System   22.3680         2   \n",
       "..                                                 ...       ...       ...   \n",
       "995                     Plantronics Voyager Pro Legend  617.9700         3   \n",
       "996                 Laser & Ink Jet Business Envelopes   10.6700         1   \n",
       "997                         Portable Personal File Box   36.6300         3   \n",
       "998              Magna Visual Magnetic Picture Hangers   24.1000         5   \n",
       "999  C-Line Cubicle Keepers Polyproplyene Holder Wi...   33.1100         7   \n",
       "\n",
       "     Discount    Profit  \n",
       "0        0.00   41.9136  \n",
       "1        0.00  219.5820  \n",
       "2        0.00    6.8714  \n",
       "3        0.45 -383.0310  \n",
       "4        0.20    2.5164  \n",
       "..        ...       ...  \n",
       "995      0.00  173.0316  \n",
       "996      0.00    4.9082  \n",
       "997      0.00    9.8901  \n",
       "998      0.00    9.1580  \n",
       "999      0.00   12.9129  \n",
       "\n",
       "[1000 rows x 21 columns]"
      ]
     },
     "execution_count": 19,
     "metadata": {},
     "output_type": "execute_result"
    }
   ],
   "source": [
    "data.head(1000)"
   ]
  },
  {
   "cell_type": "code",
   "execution_count": 7,
   "id": "ef520cdf",
   "metadata": {},
   "outputs": [
    {
     "data": {
      "text/plain": [
       "Row ID                    int64\n",
       "Order ID                 object\n",
       "Order Date       datetime64[ns]\n",
       "Ship Date        datetime64[ns]\n",
       "Ship Mode                object\n",
       "Customer ID              object\n",
       "Customer Name            object\n",
       "Segment                  object\n",
       "Country                  object\n",
       "City                     object\n",
       "State                    object\n",
       "Postal Code               int64\n",
       "Region                   object\n",
       "Product ID               object\n",
       "Category                 object\n",
       "Sub-Category             object\n",
       "Product Name             object\n",
       "Sales                   float64\n",
       "Quantity                  int64\n",
       "Discount                float64\n",
       "Profit                  float64\n",
       "dtype: object"
      ]
     },
     "execution_count": 7,
     "metadata": {},
     "output_type": "execute_result"
    }
   ],
   "source": [
    "data.dtypes"
   ]
  },
  {
   "cell_type": "code",
   "execution_count": 8,
   "id": "6880f00e",
   "metadata": {},
   "outputs": [
    {
     "data": {
      "text/plain": [
       "Row ID           0\n",
       "Order ID         0\n",
       "Order Date       0\n",
       "Ship Date        0\n",
       "Ship Mode        0\n",
       "Customer ID      0\n",
       "Customer Name    0\n",
       "Segment          0\n",
       "Country          0\n",
       "City             0\n",
       "State            0\n",
       "Postal Code      0\n",
       "Region           0\n",
       "Product ID       0\n",
       "Category         0\n",
       "Sub-Category     0\n",
       "Product Name     0\n",
       "Sales            0\n",
       "Quantity         0\n",
       "Discount         0\n",
       "Profit           0\n",
       "dtype: int64"
      ]
     },
     "execution_count": 8,
     "metadata": {},
     "output_type": "execute_result"
    }
   ],
   "source": [
    "data.isnull().sum()"
   ]
  },
  {
   "cell_type": "code",
   "execution_count": 14,
   "id": "6a2bc7af",
   "metadata": {},
   "outputs": [
    {
     "data": {
      "text/plain": [
       "Row ID           1620\n",
       "Order ID         1620\n",
       "Order Date       1620\n",
       "Ship Date        1620\n",
       "Ship Mode        1620\n",
       "Customer ID      1620\n",
       "Customer Name    1620\n",
       "Segment          1620\n",
       "Country          1620\n",
       "City             1620\n",
       "State            1620\n",
       "Postal Code      1620\n",
       "Region           1620\n",
       "Product ID       1620\n",
       "Category         1620\n",
       "Sub-Category     1620\n",
       "Product Name     1620\n",
       "Sales            1620\n",
       "Quantity         1620\n",
       "Discount         1620\n",
       "Profit           1620\n",
       "dtype: int64"
      ]
     },
     "execution_count": 14,
     "metadata": {},
     "output_type": "execute_result"
    }
   ],
   "source": [
    "data[data['Region'] == 'South'].count()"
   ]
  },
  {
   "cell_type": "code",
   "execution_count": 20,
   "id": "3a414b70",
   "metadata": {},
   "outputs": [
    {
     "data": {
      "text/plain": [
       "Row ID           2323\n",
       "Order ID         2323\n",
       "Order Date       2323\n",
       "Ship Date        2323\n",
       "Ship Mode        2323\n",
       "Customer ID      2323\n",
       "Customer Name    2323\n",
       "Segment          2323\n",
       "Country          2323\n",
       "City             2323\n",
       "State            2323\n",
       "Postal Code      2323\n",
       "Region           2323\n",
       "Product ID       2323\n",
       "Category         2323\n",
       "Sub-Category     2323\n",
       "Product Name     2323\n",
       "Sales            2323\n",
       "Quantity         2323\n",
       "Discount         2323\n",
       "Profit           2323\n",
       "dtype: int64"
      ]
     },
     "execution_count": 20,
     "metadata": {},
     "output_type": "execute_result"
    }
   ],
   "source": [
    "data[data['Region'] == 'Central'].count()"
   ]
  },
  {
   "cell_type": "code",
   "execution_count": 16,
   "id": "fbb1fbfc",
   "metadata": {},
   "outputs": [
    {
     "data": {
      "text/plain": [
       "Row ID           2848\n",
       "Order ID         2848\n",
       "Order Date       2848\n",
       "Ship Date        2848\n",
       "Ship Mode        2848\n",
       "Customer ID      2848\n",
       "Customer Name    2848\n",
       "Segment          2848\n",
       "Country          2848\n",
       "City             2848\n",
       "State            2848\n",
       "Postal Code      2848\n",
       "Region           2848\n",
       "Product ID       2848\n",
       "Category         2848\n",
       "Sub-Category     2848\n",
       "Product Name     2848\n",
       "Sales            2848\n",
       "Quantity         2848\n",
       "Discount         2848\n",
       "Profit           2848\n",
       "dtype: int64"
      ]
     },
     "execution_count": 16,
     "metadata": {},
     "output_type": "execute_result"
    }
   ],
   "source": [
    "data[data['Region'] == 'East'].count()"
   ]
  },
  {
   "cell_type": "code",
   "execution_count": 18,
   "id": "3adce25c",
   "metadata": {},
   "outputs": [
    {
     "data": {
      "text/plain": [
       "Row ID           3203\n",
       "Order ID         3203\n",
       "Order Date       3203\n",
       "Ship Date        3203\n",
       "Ship Mode        3203\n",
       "Customer ID      3203\n",
       "Customer Name    3203\n",
       "Segment          3203\n",
       "Country          3203\n",
       "City             3203\n",
       "State            3203\n",
       "Postal Code      3203\n",
       "Region           3203\n",
       "Product ID       3203\n",
       "Category         3203\n",
       "Sub-Category     3203\n",
       "Product Name     3203\n",
       "Sales            3203\n",
       "Quantity         3203\n",
       "Discount         3203\n",
       "Profit           3203\n",
       "dtype: int64"
      ]
     },
     "execution_count": 18,
     "metadata": {},
     "output_type": "execute_result"
    }
   ],
   "source": [
    "data[data['Region'] == 'West'].count()"
   ]
  },
  {
   "cell_type": "code",
   "execution_count": 23,
   "id": "7527a082",
   "metadata": {},
   "outputs": [
    {
     "data": {
      "text/plain": [
       "28.6568963077848"
      ]
     },
     "execution_count": 23,
     "metadata": {},
     "output_type": "execute_result"
    }
   ],
   "source": [
    "data.Profit.mean()"
   ]
  },
  {
   "cell_type": "code",
   "execution_count": 24,
   "id": "3710de09",
   "metadata": {},
   "outputs": [
    {
     "data": {
      "text/plain": [
       "229.8580008304938"
      ]
     },
     "execution_count": 24,
     "metadata": {},
     "output_type": "execute_result"
    }
   ],
   "source": [
    "data.Sales.mean()"
   ]
  },
  {
   "cell_type": "code",
   "execution_count": 31,
   "id": "85bbb977",
   "metadata": {},
   "outputs": [
    {
     "data": {
      "text/html": [
       "<div>\n",
       "<style scoped>\n",
       "    .dataframe tbody tr th:only-of-type {\n",
       "        vertical-align: middle;\n",
       "    }\n",
       "\n",
       "    .dataframe tbody tr th {\n",
       "        vertical-align: top;\n",
       "    }\n",
       "\n",
       "    .dataframe thead th {\n",
       "        text-align: right;\n",
       "    }\n",
       "</style>\n",
       "<table border=\"1\" class=\"dataframe\">\n",
       "  <thead>\n",
       "    <tr style=\"text-align: right;\">\n",
       "      <th></th>\n",
       "      <th>Row ID</th>\n",
       "      <th>Order ID</th>\n",
       "      <th>Order Date</th>\n",
       "      <th>Ship Date</th>\n",
       "      <th>Ship Mode</th>\n",
       "      <th>Customer ID</th>\n",
       "      <th>Customer Name</th>\n",
       "      <th>Segment</th>\n",
       "      <th>Country</th>\n",
       "      <th>City</th>\n",
       "      <th>...</th>\n",
       "      <th>Postal Code</th>\n",
       "      <th>Region</th>\n",
       "      <th>Product ID</th>\n",
       "      <th>Category</th>\n",
       "      <th>Sub-Category</th>\n",
       "      <th>Product Name</th>\n",
       "      <th>Sales</th>\n",
       "      <th>Quantity</th>\n",
       "      <th>Discount</th>\n",
       "      <th>Profit</th>\n",
       "    </tr>\n",
       "  </thead>\n",
       "  <tbody>\n",
       "    <tr>\n",
       "      <th>2697</th>\n",
       "      <td>2698</td>\n",
       "      <td>CA-2014-145317</td>\n",
       "      <td>2014-03-18</td>\n",
       "      <td>2014-03-23</td>\n",
       "      <td>Standard Class</td>\n",
       "      <td>SM-20320</td>\n",
       "      <td>Sean Miller</td>\n",
       "      <td>Home Office</td>\n",
       "      <td>United States</td>\n",
       "      <td>Jacksonville</td>\n",
       "      <td>...</td>\n",
       "      <td>32216</td>\n",
       "      <td>South</td>\n",
       "      <td>TEC-MA-10002412</td>\n",
       "      <td>Technology</td>\n",
       "      <td>Machines</td>\n",
       "      <td>Cisco TelePresence System EX90 Videoconferenci...</td>\n",
       "      <td>22638.48</td>\n",
       "      <td>6</td>\n",
       "      <td>0.5</td>\n",
       "      <td>-1811.0784</td>\n",
       "    </tr>\n",
       "  </tbody>\n",
       "</table>\n",
       "<p>1 rows × 21 columns</p>\n",
       "</div>"
      ],
      "text/plain": [
       "      Row ID        Order ID Order Date  Ship Date       Ship Mode  \\\n",
       "2697    2698  CA-2014-145317 2014-03-18 2014-03-23  Standard Class   \n",
       "\n",
       "     Customer ID Customer Name      Segment        Country          City  ...  \\\n",
       "2697    SM-20320   Sean Miller  Home Office  United States  Jacksonville  ...   \n",
       "\n",
       "     Postal Code  Region       Product ID    Category Sub-Category  \\\n",
       "2697       32216   South  TEC-MA-10002412  Technology     Machines   \n",
       "\n",
       "                                           Product Name     Sales  Quantity  \\\n",
       "2697  Cisco TelePresence System EX90 Videoconferenci...  22638.48         6   \n",
       "\n",
       "      Discount     Profit  \n",
       "2697       0.5 -1811.0784  \n",
       "\n",
       "[1 rows x 21 columns]"
      ]
     },
     "execution_count": 31,
     "metadata": {},
     "output_type": "execute_result"
    }
   ],
   "source": [
    "data[data['Sales'] == data.Sales.max()]  "
   ]
  },
  {
   "cell_type": "code",
   "execution_count": 32,
   "id": "8d87c3f2",
   "metadata": {},
   "outputs": [
    {
     "data": {
      "text/html": [
       "<div>\n",
       "<style scoped>\n",
       "    .dataframe tbody tr th:only-of-type {\n",
       "        vertical-align: middle;\n",
       "    }\n",
       "\n",
       "    .dataframe tbody tr th {\n",
       "        vertical-align: top;\n",
       "    }\n",
       "\n",
       "    .dataframe thead th {\n",
       "        text-align: right;\n",
       "    }\n",
       "</style>\n",
       "<table border=\"1\" class=\"dataframe\">\n",
       "  <thead>\n",
       "    <tr style=\"text-align: right;\">\n",
       "      <th></th>\n",
       "      <th>Row ID</th>\n",
       "      <th>Order ID</th>\n",
       "      <th>Order Date</th>\n",
       "      <th>Ship Date</th>\n",
       "      <th>Ship Mode</th>\n",
       "      <th>Customer ID</th>\n",
       "      <th>Customer Name</th>\n",
       "      <th>Segment</th>\n",
       "      <th>Country</th>\n",
       "      <th>City</th>\n",
       "      <th>...</th>\n",
       "      <th>Postal Code</th>\n",
       "      <th>Region</th>\n",
       "      <th>Product ID</th>\n",
       "      <th>Category</th>\n",
       "      <th>Sub-Category</th>\n",
       "      <th>Product Name</th>\n",
       "      <th>Sales</th>\n",
       "      <th>Quantity</th>\n",
       "      <th>Discount</th>\n",
       "      <th>Profit</th>\n",
       "    </tr>\n",
       "  </thead>\n",
       "  <tbody>\n",
       "    <tr>\n",
       "      <th>4101</th>\n",
       "      <td>4102</td>\n",
       "      <td>US-2017-102288</td>\n",
       "      <td>2017-06-19</td>\n",
       "      <td>2017-06-23</td>\n",
       "      <td>Standard Class</td>\n",
       "      <td>ZC-21910</td>\n",
       "      <td>Zuschuss Carroll</td>\n",
       "      <td>Consumer</td>\n",
       "      <td>United States</td>\n",
       "      <td>Houston</td>\n",
       "      <td>...</td>\n",
       "      <td>77095</td>\n",
       "      <td>Central</td>\n",
       "      <td>OFF-AP-10002906</td>\n",
       "      <td>Office Supplies</td>\n",
       "      <td>Appliances</td>\n",
       "      <td>Hoover Replacement Belt for Commercial Guardsm...</td>\n",
       "      <td>0.444</td>\n",
       "      <td>1</td>\n",
       "      <td>0.8</td>\n",
       "      <td>-1.11</td>\n",
       "    </tr>\n",
       "  </tbody>\n",
       "</table>\n",
       "<p>1 rows × 21 columns</p>\n",
       "</div>"
      ],
      "text/plain": [
       "      Row ID        Order ID Order Date  Ship Date       Ship Mode  \\\n",
       "4101    4102  US-2017-102288 2017-06-19 2017-06-23  Standard Class   \n",
       "\n",
       "     Customer ID     Customer Name   Segment        Country     City  ...  \\\n",
       "4101    ZC-21910  Zuschuss Carroll  Consumer  United States  Houston  ...   \n",
       "\n",
       "     Postal Code   Region       Product ID         Category Sub-Category  \\\n",
       "4101       77095  Central  OFF-AP-10002906  Office Supplies   Appliances   \n",
       "\n",
       "                                           Product Name  Sales  Quantity  \\\n",
       "4101  Hoover Replacement Belt for Commercial Guardsm...  0.444         1   \n",
       "\n",
       "      Discount  Profit  \n",
       "4101       0.8   -1.11  \n",
       "\n",
       "[1 rows x 21 columns]"
      ]
     },
     "execution_count": 32,
     "metadata": {},
     "output_type": "execute_result"
    }
   ],
   "source": [
    "data[data['Sales'] == data.Sales.min()]"
   ]
  },
  {
   "cell_type": "code",
   "execution_count": 28,
   "id": "8ce61c25",
   "metadata": {},
   "outputs": [
    {
     "data": {
      "text/html": [
       "<div>\n",
       "<style scoped>\n",
       "    .dataframe tbody tr th:only-of-type {\n",
       "        vertical-align: middle;\n",
       "    }\n",
       "\n",
       "    .dataframe tbody tr th {\n",
       "        vertical-align: top;\n",
       "    }\n",
       "\n",
       "    .dataframe thead th {\n",
       "        text-align: right;\n",
       "    }\n",
       "</style>\n",
       "<table border=\"1\" class=\"dataframe\">\n",
       "  <thead>\n",
       "    <tr style=\"text-align: right;\">\n",
       "      <th></th>\n",
       "      <th>Row ID</th>\n",
       "      <th>Order ID</th>\n",
       "      <th>Order Date</th>\n",
       "      <th>Ship Date</th>\n",
       "      <th>Ship Mode</th>\n",
       "      <th>Customer ID</th>\n",
       "      <th>Customer Name</th>\n",
       "      <th>Segment</th>\n",
       "      <th>Country</th>\n",
       "      <th>City</th>\n",
       "      <th>...</th>\n",
       "      <th>Postal Code</th>\n",
       "      <th>Region</th>\n",
       "      <th>Product ID</th>\n",
       "      <th>Category</th>\n",
       "      <th>Sub-Category</th>\n",
       "      <th>Product Name</th>\n",
       "      <th>Sales</th>\n",
       "      <th>Quantity</th>\n",
       "      <th>Discount</th>\n",
       "      <th>Profit</th>\n",
       "    </tr>\n",
       "  </thead>\n",
       "  <tbody>\n",
       "    <tr>\n",
       "      <th>6826</th>\n",
       "      <td>6827</td>\n",
       "      <td>CA-2016-118689</td>\n",
       "      <td>2016-10-02</td>\n",
       "      <td>2016-10-09</td>\n",
       "      <td>Standard Class</td>\n",
       "      <td>TC-20980</td>\n",
       "      <td>Tamara Chand</td>\n",
       "      <td>Corporate</td>\n",
       "      <td>United States</td>\n",
       "      <td>Lafayette</td>\n",
       "      <td>...</td>\n",
       "      <td>47905</td>\n",
       "      <td>Central</td>\n",
       "      <td>TEC-CO-10004722</td>\n",
       "      <td>Technology</td>\n",
       "      <td>Copiers</td>\n",
       "      <td>Canon imageCLASS 2200 Advanced Copier</td>\n",
       "      <td>17499.95</td>\n",
       "      <td>5</td>\n",
       "      <td>0.0</td>\n",
       "      <td>8399.976</td>\n",
       "    </tr>\n",
       "  </tbody>\n",
       "</table>\n",
       "<p>1 rows × 21 columns</p>\n",
       "</div>"
      ],
      "text/plain": [
       "      Row ID        Order ID Order Date  Ship Date       Ship Mode  \\\n",
       "6826    6827  CA-2016-118689 2016-10-02 2016-10-09  Standard Class   \n",
       "\n",
       "     Customer ID Customer Name    Segment        Country       City  ...  \\\n",
       "6826    TC-20980  Tamara Chand  Corporate  United States  Lafayette  ...   \n",
       "\n",
       "     Postal Code   Region       Product ID    Category Sub-Category  \\\n",
       "6826       47905  Central  TEC-CO-10004722  Technology      Copiers   \n",
       "\n",
       "                               Product Name     Sales  Quantity  Discount  \\\n",
       "6826  Canon imageCLASS 2200 Advanced Copier  17499.95         5       0.0   \n",
       "\n",
       "        Profit  \n",
       "6826  8399.976  \n",
       "\n",
       "[1 rows x 21 columns]"
      ]
     },
     "execution_count": 28,
     "metadata": {},
     "output_type": "execute_result"
    }
   ],
   "source": [
    "data[data['Profit'] == data.Profit.max()]"
   ]
  },
  {
   "cell_type": "code",
   "execution_count": 33,
   "id": "589a9564",
   "metadata": {},
   "outputs": [
    {
     "data": {
      "text/html": [
       "<div>\n",
       "<style scoped>\n",
       "    .dataframe tbody tr th:only-of-type {\n",
       "        vertical-align: middle;\n",
       "    }\n",
       "\n",
       "    .dataframe tbody tr th {\n",
       "        vertical-align: top;\n",
       "    }\n",
       "\n",
       "    .dataframe thead th {\n",
       "        text-align: right;\n",
       "    }\n",
       "</style>\n",
       "<table border=\"1\" class=\"dataframe\">\n",
       "  <thead>\n",
       "    <tr style=\"text-align: right;\">\n",
       "      <th></th>\n",
       "      <th>Row ID</th>\n",
       "      <th>Order ID</th>\n",
       "      <th>Order Date</th>\n",
       "      <th>Ship Date</th>\n",
       "      <th>Ship Mode</th>\n",
       "      <th>Customer ID</th>\n",
       "      <th>Customer Name</th>\n",
       "      <th>Segment</th>\n",
       "      <th>Country</th>\n",
       "      <th>City</th>\n",
       "      <th>...</th>\n",
       "      <th>Postal Code</th>\n",
       "      <th>Region</th>\n",
       "      <th>Product ID</th>\n",
       "      <th>Category</th>\n",
       "      <th>Sub-Category</th>\n",
       "      <th>Product Name</th>\n",
       "      <th>Sales</th>\n",
       "      <th>Quantity</th>\n",
       "      <th>Discount</th>\n",
       "      <th>Profit</th>\n",
       "    </tr>\n",
       "  </thead>\n",
       "  <tbody>\n",
       "    <tr>\n",
       "      <th>7772</th>\n",
       "      <td>7773</td>\n",
       "      <td>CA-2016-108196</td>\n",
       "      <td>2016-11-25</td>\n",
       "      <td>2016-12-02</td>\n",
       "      <td>Standard Class</td>\n",
       "      <td>CS-12505</td>\n",
       "      <td>Cindy Stewart</td>\n",
       "      <td>Consumer</td>\n",
       "      <td>United States</td>\n",
       "      <td>Lancaster</td>\n",
       "      <td>...</td>\n",
       "      <td>43130</td>\n",
       "      <td>East</td>\n",
       "      <td>TEC-MA-10000418</td>\n",
       "      <td>Technology</td>\n",
       "      <td>Machines</td>\n",
       "      <td>Cubify CubeX 3D Printer Double Head Print</td>\n",
       "      <td>4499.985</td>\n",
       "      <td>5</td>\n",
       "      <td>0.7</td>\n",
       "      <td>-6599.978</td>\n",
       "    </tr>\n",
       "  </tbody>\n",
       "</table>\n",
       "<p>1 rows × 21 columns</p>\n",
       "</div>"
      ],
      "text/plain": [
       "      Row ID        Order ID Order Date  Ship Date       Ship Mode  \\\n",
       "7772    7773  CA-2016-108196 2016-11-25 2016-12-02  Standard Class   \n",
       "\n",
       "     Customer ID  Customer Name   Segment        Country       City  ...  \\\n",
       "7772    CS-12505  Cindy Stewart  Consumer  United States  Lancaster  ...   \n",
       "\n",
       "     Postal Code  Region       Product ID    Category Sub-Category  \\\n",
       "7772       43130    East  TEC-MA-10000418  Technology     Machines   \n",
       "\n",
       "                                   Product Name     Sales  Quantity  Discount  \\\n",
       "7772  Cubify CubeX 3D Printer Double Head Print  4499.985         5       0.7   \n",
       "\n",
       "        Profit  \n",
       "7772 -6599.978  \n",
       "\n",
       "[1 rows x 21 columns]"
      ]
     },
     "execution_count": 33,
     "metadata": {},
     "output_type": "execute_result"
    }
   ],
   "source": [
    "data[data['Profit'] == data.Profit.min()]"
   ]
  },
  {
   "cell_type": "code",
   "execution_count": 34,
   "id": "68e0a9cc",
   "metadata": {},
   "outputs": [
    {
     "data": {
      "text/plain": [
       "count     9994.000000\n",
       "mean       229.858001\n",
       "std        623.245101\n",
       "min          0.444000\n",
       "25%         17.280000\n",
       "50%         54.490000\n",
       "75%        209.940000\n",
       "max      22638.480000\n",
       "Name: Sales, dtype: float64"
      ]
     },
     "execution_count": 34,
     "metadata": {},
     "output_type": "execute_result"
    }
   ],
   "source": [
    "data.Sales.describe()"
   ]
  },
  {
   "cell_type": "code",
   "execution_count": 35,
   "id": "128d8184",
   "metadata": {},
   "outputs": [
    {
     "data": {
      "text/plain": [
       "count    9994.000000\n",
       "mean       28.656896\n",
       "std       234.260108\n",
       "min     -6599.978000\n",
       "25%         1.728750\n",
       "50%         8.666500\n",
       "75%        29.364000\n",
       "max      8399.976000\n",
       "Name: Profit, dtype: float64"
      ]
     },
     "execution_count": 35,
     "metadata": {},
     "output_type": "execute_result"
    }
   ],
   "source": [
    "data.Profit.describe()"
   ]
  },
  {
   "cell_type": "code",
   "execution_count": 39,
   "id": "87b09be8",
   "metadata": {},
   "outputs": [
    {
     "data": {
      "text/plain": [
       "<AxesSubplot:xlabel='Sales'>"
      ]
     },
     "execution_count": 39,
     "metadata": {},
     "output_type": "execute_result"
    },
    {
     "data": {
      "image/png": "[encoded data removed]",
      "text/plain": [
       "<Figure size 432x288 with 1 Axes>"
      ]
     },
     "metadata": {
      "needs_background": "light"
     },
     "output_type": "display_data"
    }
   ],
   "source": [
    "sns.boxplot(data.Sales)"
   ]
  },
  {
   "cell_type": "code",
   "execution_count": 40,
   "id": "c4d0f4f1",
   "metadata": {},
   "outputs": [
    {
     "data": {
      "text/plain": [
       "<AxesSubplot:xlabel='Profit'>"
      ]
     },
     "execution_count": 40,
     "metadata": {},
     "output_type": "execute_result"
    },
    {
     "data": {
      "image/png": "[encoded data removed]",
      "text/plain": [
       "<Figure size 432x288 with 1 Axes>"
      ]
     },
     "metadata": {
      "needs_background": "light"
     },
     "output_type": "display_data"
    }
   ],
   "source": [
    "sns.boxplot(data.Profit)"
   ]
  },
  {
   "cell_type": "code",
   "execution_count": 43,
   "id": "fc9b6bf3",
   "metadata": {},
   "outputs": [
    {
     "data": {
      "image/png": "[encoded data removed]",
      "text/plain": [
       "<Figure size 432x288 with 1 Axes>"
      ]
     },
     "metadata": {
      "needs_background": "light"
     },
     "output_type": "display_data"
    }
   ],
   "source": [
    "x = list(data['Sales'])\n",
    "y = list(data['Profit'])\n",
    "\n",
    "plt.plot(x,y)\n",
    "plt.xlabel('Sales')\n",
    "plt.ylabel('Profit')\n",
    "plt.title('Sales VS Profit')\n",
    "\n",
    "plt.show()"
   ]
  },
  {
   "cell_type": "code",
   "execution_count": 46,
   "id": "a4ca27de",
   "metadata": {},
   "outputs": [
    {
     "data": {
      "image/png": "[encoded data removed]",
      "text/plain": [
       "<Figure size 432x288 with 1 Axes>"
      ]
     },
     "metadata": {
      "needs_background": "light"
     },
     "output_type": "display_data"
    },
    {
     "data": {
      "image/png": "[encoded data removed]",
      "text/plain": [
       "<Figure size 432x288 with 1 Axes>"
      ]
     },
     "metadata": {
      "needs_background": "light"
     },
     "output_type": "display_data"
    }
   ],
   "source": [
    "x = list(data['Sales'])\n",
    "y = list(data['Profit'])\n",
    "\n",
    "plt.plot(x , marker = 'o')\n",
    "plt.title('Sales')\n",
    "\n",
    "plt.show()\n",
    "\n",
    "plt.plot(y , marker = 'o')\n",
    "plt.title('Profit')\n",
    "\n",
    "plt.show()"
   ]
  },
  {
   "cell_type": "code",
   "execution_count": 55,
   "id": "74cefa9f",
   "metadata": {},
   "outputs": [
    {
     "data": {
      "image/png": "[encoded data removed]",
      "text/plain": [
       "<Figure size 432x288 with 2 Axes>"
      ]
     },
     "metadata": {
      "needs_background": "light"
     },
     "output_type": "display_data"
    }
   ],
   "source": [
    "z = list(data['Discount'])\n",
    "color=np.random.randint(data['Discount'].count(),size=(data['Discount'].count()))\n",
    "#size= np.array(10*np.random.randint(data['Discount'].count(),size=(data['Discount'].count())))\n",
    "\n",
    "plt.scatter(z,x,c=color,s=300,alpha=0.4,cmap='nipy_spectral')\n",
    "plt.colorbar()\n",
    "\n",
    "plt.show()"
   ]
  }
 ],
 "metadata": {
  "kernelspec": {
   "display_name": "Python 3 (ipykernel)",
   "language": "python",
   "name": "python3"
  },
  "language_info": {
   "codemirror_mode": {
    "name": "ipython",
    "version": 3
   },
   "file_extension": ".py",
   "mimetype": "text/x-python",
   "name": "python",
   "nbconvert_exporter": "python",
   "pygments_lexer": "ipython3",
   "version": "3.9.12"
  }
 },
 "nbformat": 4,
 "nbformat_minor": 5
}
